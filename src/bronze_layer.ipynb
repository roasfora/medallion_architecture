{
 "cells": [
  {
   "cell_type": "code",
   "execution_count": 0,
   "metadata": {
    "application/vnd.databricks.v1+cell": {
     "cellMetadata": {
      "byteLimit": 2048000,
      "rowLimit": 10000
     },
     "inputWidgets": {},
     "nuid": "d35df6dd-1301-4357-92e1-a5ce3c264133",
     "showTitle": false,
     "tableResultSettingsMap": {},
     "title": ""
    }
   },
   "outputs": [],
   "source": [
    "from pyspark.sql.functions import col, sum, avg, when\n",
    "\n",
    "def clean_column_names(df):\n",
    "    for col_name in df.columns:\n",
    "        clean_name = col_name.strip().lower().replace(\" \", \"_\").replace(\".\", \"_\")\n",
    "        df = df.withColumnRenamed(col_name, clean_name)\n",
    "    return df\n",
    "\n",
    "# Your full SAS token string \n",
    "sas_token = \"API_KEY\"\n",
    "\n",
    "# Define storage info\n",
    "storage_account = \"dwcontoso\"\n",
    "container = \"dataset\"\n",
    "csv_files = [\n",
    "    \"Product.csv\",\n",
    "    \"Region.csv\",\n",
    "    \"Reseller.csv\",\n",
    "    \"Sales.csv\",\n",
    "    \"Salesperson.csv\",\n",
    "    \"SalespersonRegion.csv\",\n",
    "    \"Targets.csv\"\n",
    "]\n",
    "\n",
    "# define the output storage\n",
    "\n",
    "bronze_bath_path=\"/mnt/bronze\"\n",
    "\n",
    "# Configure Spark to access the storage with SAS\n",
    "spark.conf.set(\n",
    "  f\"fs.azure.sas.{container}.{storage_account}.blob.core.windows.net\",\n",
    "  sas_token\n",
    ")\n",
    "\n",
    "# Build the WASBS URL\n",
    "\n",
    "for file_name in csv_files:\n",
    "\n",
    "  # path\n",
    "\n",
    "  file_path = f\"wasbs://{container}@{storage_account}.blob.core.windows.net/{file_name}\"\n",
    "\n",
    "  #table name\n",
    "\n",
    "  table_name = file_name.replace(\".csv\",\"\")\n",
    "\n",
    "  #load csv\n",
    "\n",
    "  df = spark.read.options(header=True, inferSchema=True, sep=\"\\t\").csv(file_path)\n",
    "  df=clean_column_names(df)\n",
    "\n",
    "  #save as delta table\n",
    "\n",
    "  bronze_path = f\"{bronze_bath_path}/{table_name}\"\n",
    "\n",
    "  df.write.format(\"delta\").mode(\"overwrite\").save(bronze_path)"
   ]
  },
  {
   "cell_type": "code",
   "execution_count": 0,
   "metadata": {
    "application/vnd.databricks.v1+cell": {
     "cellMetadata": {
      "byteLimit": 2048000,
      "rowLimit": 10000
     },
     "inputWidgets": {},
     "nuid": "ea27377b-cfcc-4cec-a2b9-5c9938ce85f7",
     "showTitle": false,
     "tableResultSettingsMap": {},
     "title": ""
    }
   },
   "outputs": [
    {
     "data": {
      "text/html": [
       "<style scoped>\n",
       "  .table-result-container {\n",
       "    max-height: 300px;\n",
       "    overflow: auto;\n",
       "  }\n",
       "  table, th, td {\n",
       "    border: 1px solid black;\n",
       "    border-collapse: collapse;\n",
       "  }\n",
       "  th, td {\n",
       "    padding: 5px;\n",
       "  }\n",
       "  th {\n",
       "    text-align: left;\n",
       "  }\n",
       "</style><div class='table-result-container'><table class='table-result'><thead style='background-color: white'><tr><th>path</th><th>name</th><th>size</th><th>modificationTime</th></tr></thead><tbody><tr><td>dbfs:/mnt/bronze/Product/</td><td>Product/</td><td>0</td><td>1747416805000</td></tr><tr><td>dbfs:/mnt/bronze/Region/</td><td>Region/</td><td>0</td><td>1747416819000</td></tr><tr><td>dbfs:/mnt/bronze/Reseller/</td><td>Reseller/</td><td>0</td><td>1747416822000</td></tr><tr><td>dbfs:/mnt/bronze/Sales/</td><td>Sales/</td><td>0</td><td>1747416826000</td></tr><tr><td>dbfs:/mnt/bronze/Salesperson/</td><td>Salesperson/</td><td>0</td><td>1747416829000</td></tr><tr><td>dbfs:/mnt/bronze/SalespersonRegion/</td><td>SalespersonRegion/</td><td>0</td><td>1747416831000</td></tr><tr><td>dbfs:/mnt/bronze/Targets/</td><td>Targets/</td><td>0</td><td>1747416833000</td></tr></tbody></table></div>"
      ]
     },
     "metadata": {
      "application/vnd.databricks.v1+output": {
       "addedWidgets": {},
       "aggData": [],
       "aggError": "",
       "aggOverflow": false,
       "aggSchema": [],
       "aggSeriesLimitReached": false,
       "aggType": "",
       "arguments": {},
       "columnCustomDisplayInfos": {},
       "data": [
        [
         "dbfs:/mnt/bronze/Product/",
         "Product/",
         0,
         1747416805000
        ],
        [
         "dbfs:/mnt/bronze/Region/",
         "Region/",
         0,
         1747416819000
        ],
        [
         "dbfs:/mnt/bronze/Reseller/",
         "Reseller/",
         0,
         1747416822000
        ],
        [
         "dbfs:/mnt/bronze/Sales/",
         "Sales/",
         0,
         1747416826000
        ],
        [
         "dbfs:/mnt/bronze/Salesperson/",
         "Salesperson/",
         0,
         1747416829000
        ],
        [
         "dbfs:/mnt/bronze/SalespersonRegion/",
         "SalespersonRegion/",
         0,
         1747416831000
        ],
        [
         "dbfs:/mnt/bronze/Targets/",
         "Targets/",
         0,
         1747416833000
        ]
       ],
       "datasetInfos": [],
       "dbfsResultPath": null,
       "isJsonSchema": true,
       "metadata": {
        "isDbfsCommandResult": false
       },
       "overflow": false,
       "plotOptions": {
        "customPlotOptions": {},
        "displayType": "table",
        "pivotAggregation": null,
        "pivotColumns": null,
        "xColumns": null,
        "yColumns": null
       },
       "removedWidgets": [],
       "schema": [
        {
         "metadata": "{}",
         "name": "path",
         "type": "\"string\""
        },
        {
         "metadata": "{}",
         "name": "name",
         "type": "\"string\""
        },
        {
         "metadata": "{}",
         "name": "size",
         "type": "\"long\""
        },
        {
         "metadata": "{}",
         "name": "modificationTime",
         "type": "\"long\""
        }
       ],
       "type": "table"
      }
     },
     "output_type": "display_data"
    }
   ],
   "source": [
    "%fs ls /mnt/bronze\n"
   ]
  }
 ],
 "metadata": {
  "application/vnd.databricks.v1+notebook": {
   "computePreferences": null,
   "dashboards": [],
   "environmentMetadata": {
    "base_environment": "",
    "environment_version": "2"
   },
   "inputWidgetPreferences": null,
   "language": "python",
   "notebookMetadata": {
    "mostRecentlyExecutedCommandWithImplicitDF": {
     "commandId": 7704133251014643,
     "dataframes": [
      "_sqldf"
     ]
    },
    "pythonIndentUnit": 4
   },
   "notebookName": "bronze_layer",
   "widgets": {}
  },
  "language_info": {
   "name": "python"
  }
 },
 "nbformat": 4,
 "nbformat_minor": 0
}
