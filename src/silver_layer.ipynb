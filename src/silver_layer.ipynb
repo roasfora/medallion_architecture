{
 "cells": [
  {
   "cell_type": "code",
   "execution_count": 0,
   "metadata": {
    "application/vnd.databricks.v1+cell": {
     "cellMetadata": {
      "byteLimit": 2048000,
      "implicitDf": true,
      "rowLimit": 10000
     },
     "inputWidgets": {},
     "nuid": "a9df957f-7a36-491c-805b-a8713af70be9",
     "showTitle": false,
     "tableResultSettingsMap": {},
     "title": ""
    }
   },
   "outputs": [
    {
     "output_type": "display_data",
     "data": {
      "text/html": [
       "<style scoped>\n",
       "  .table-result-container {\n",
       "    max-height: 300px;\n",
       "    overflow: auto;\n",
       "  }\n",
       "  table, th, td {\n",
       "    border: 1px solid black;\n",
       "    border-collapse: collapse;\n",
       "  }\n",
       "  th, td {\n",
       "    padding: 5px;\n",
       "  }\n",
       "  th {\n",
       "    text-align: left;\n",
       "  }\n",
       "</style><div class='table-result-container'><table class='table-result'><thead style='background-color: white'><tr><th>path</th><th>name</th><th>size</th><th>modificationTime</th></tr></thead><tbody><tr><td>dbfs:/mnt/bronze/Product/</td><td>Product/</td><td>0</td><td>1747416805000</td></tr><tr><td>dbfs:/mnt/bronze/Region/</td><td>Region/</td><td>0</td><td>1747416819000</td></tr><tr><td>dbfs:/mnt/bronze/Reseller/</td><td>Reseller/</td><td>0</td><td>1747416822000</td></tr><tr><td>dbfs:/mnt/bronze/Sales/</td><td>Sales/</td><td>0</td><td>1747416826000</td></tr><tr><td>dbfs:/mnt/bronze/Salesperson/</td><td>Salesperson/</td><td>0</td><td>1747416829000</td></tr><tr><td>dbfs:/mnt/bronze/SalespersonRegion/</td><td>SalespersonRegion/</td><td>0</td><td>1747416831000</td></tr><tr><td>dbfs:/mnt/bronze/Targets/</td><td>Targets/</td><td>0</td><td>1747416833000</td></tr></tbody></table></div>"
      ]
     },
     "metadata": {
      "application/vnd.databricks.v1+output": {
       "addedWidgets": {},
       "aggData": [],
       "aggError": "",
       "aggOverflow": false,
       "aggSchema": [],
       "aggSeriesLimitReached": false,
       "aggType": "",
       "arguments": {},
       "columnCustomDisplayInfos": {},
       "data": [
        [
         "dbfs:/mnt/bronze/Product/",
         "Product/",
         0,
         1747416805000
        ],
        [
         "dbfs:/mnt/bronze/Region/",
         "Region/",
         0,
         1747416819000
        ],
        [
         "dbfs:/mnt/bronze/Reseller/",
         "Reseller/",
         0,
         1747416822000
        ],
        [
         "dbfs:/mnt/bronze/Sales/",
         "Sales/",
         0,
         1747416826000
        ],
        [
         "dbfs:/mnt/bronze/Salesperson/",
         "Salesperson/",
         0,
         1747416829000
        ],
        [
         "dbfs:/mnt/bronze/SalespersonRegion/",
         "SalespersonRegion/",
         0,
         1747416831000
        ],
        [
         "dbfs:/mnt/bronze/Targets/",
         "Targets/",
         0,
         1747416833000
        ]
       ],
       "datasetInfos": [],
       "dbfsResultPath": null,
       "isJsonSchema": true,
       "metadata": {
        "isDbfsCommandResult": false
       },
       "overflow": false,
       "plotOptions": {
        "customPlotOptions": {},
        "displayType": "table",
        "pivotAggregation": null,
        "pivotColumns": null,
        "xColumns": null,
        "yColumns": null
       },
       "removedWidgets": [],
       "schema": [
        {
         "metadata": "{}",
         "name": "path",
         "type": "\"string\""
        },
        {
         "metadata": "{}",
         "name": "name",
         "type": "\"string\""
        },
        {
         "metadata": "{}",
         "name": "size",
         "type": "\"long\""
        },
        {
         "metadata": "{}",
         "name": "modificationTime",
         "type": "\"long\""
        }
       ],
       "type": "table"
      }
     },
     "output_type": "display_data"
    }
   ],
   "source": [
    "%fs ls /mnt/bronze"
   ]
  },
  {
   "cell_type": "markdown",
   "metadata": {
    "application/vnd.databricks.v1+cell": {
     "cellMetadata": {
      "byteLimit": 2048000,
      "rowLimit": 10000
     },
     "inputWidgets": {},
     "nuid": "164afdff-0f03-450d-86f9-66fc7ca13675",
     "showTitle": false,
     "tableResultSettingsMap": {},
     "title": ""
    }
   },
   "source": [
    "## Schema overview"
   ]
  },
  {
   "cell_type": "code",
   "execution_count": 0,
   "metadata": {
    "application/vnd.databricks.v1+cell": {
     "cellMetadata": {
      "byteLimit": 2048000,
      "rowLimit": 10000
     },
     "inputWidgets": {},
     "nuid": "a1408866-8627-481f-9116-7e014092a7be",
     "showTitle": false,
     "tableResultSettingsMap": {},
     "title": ""
    }
   },
   "outputs": [
    {
     "output_type": "stream",
     "name": "stdout",
     "output_type": "stream",
     "text": [
      "Product\nroot\n |-- productkey: integer (nullable = true)\n |-- product: string (nullable = true)\n |-- standard_cost: string (nullable = true)\n |-- color: string (nullable = true)\n |-- subcategory: string (nullable = true)\n |-- category: string (nullable = true)\n |-- background_color_format: string (nullable = true)\n |-- font_color_format: string (nullable = true)\n\nRegion\nroot\n |-- salesterritorykey: integer (nullable = true)\n |-- region: string (nullable = true)\n |-- country: string (nullable = true)\n |-- group: string (nullable = true)\n\nReseller\nroot\n |-- resellerkey: integer (nullable = true)\n |-- business_type: string (nullable = true)\n |-- reseller: string (nullable = true)\n |-- city: string (nullable = true)\n |-- state-province: string (nullable = true)\n |-- country-region: string (nullable = true)\n\nSales\nroot\n |-- salesordernumber: string (nullable = true)\n |-- orderdate: string (nullable = true)\n |-- productkey: integer (nullable = true)\n |-- resellerkey: integer (nullable = true)\n |-- employeekey: integer (nullable = true)\n |-- salesterritorykey: integer (nullable = true)\n |-- quantity: integer (nullable = true)\n |-- unit_price: string (nullable = true)\n |-- sales: string (nullable = true)\n |-- cost: string (nullable = true)\n\nSalesperson\nroot\n |-- employeekey: integer (nullable = true)\n |-- employeeid: integer (nullable = true)\n |-- salesperson: string (nullable = true)\n |-- title: string (nullable = true)\n |-- upn: string (nullable = true)\n\nSalespersonRegion\nroot\n |-- employeekey: integer (nullable = true)\n |-- salesterritorykey: integer (nullable = true)\n\nTargets\nroot\n |-- employeeid: integer (nullable = true)\n |-- target: string (nullable = true)\n |-- targetmonth: string (nullable = true)\n\n"
     ]
    }
   ],
   "source": [
    "files = [\n",
    "    \"Product\",\n",
    "    \"Region\",\n",
    "    \"Reseller\",\n",
    "    \"Sales\",\n",
    "    \"Salesperson\",\n",
    "    \"SalespersonRegion\",\n",
    "    \"Targets\"\n",
    "]\n",
    "\n",
    "for file in files:\n",
    "    df = spark.read.format(\"delta\").load(\"/mnt/bronze/\" + file)\n",
    "    print(file)\n",
    "    df.printSchema()\n"
   ]
  },
  {
   "cell_type": "markdown",
   "metadata": {
    "application/vnd.databricks.v1+cell": {
     "cellMetadata": {
      "byteLimit": 2048000,
      "rowLimit": 10000
     },
     "inputWidgets": {},
     "nuid": "2e4dc25a-de2a-4e9c-a398-ee9f2e15ac75",
     "showTitle": false,
     "tableResultSettingsMap": {},
     "title": ""
    }
   },
   "source": [
    "## Statistics"
   ]
  },
  {
   "cell_type": "code",
   "execution_count": 0,
   "metadata": {
    "application/vnd.databricks.v1+cell": {
     "cellMetadata": {
      "byteLimit": 2048000,
      "rowLimit": 10000
     },
     "inputWidgets": {},
     "nuid": "b051011f-42d3-47bf-936b-df06531c99d6",
     "showTitle": false,
     "tableResultSettingsMap": {},
     "title": ""
    }
   },
   "outputs": [
    {
     "output_type": "stream",
     "name": "stdout",
     "output_type": "stream",
     "text": [
      "Product\n+-------+------------------+-----------------+-------------+------+-----------+-----------+-----------------------+-----------------+\n|summary|        productkey|          product|standard_cost| color|subcategory|   category|background_color_format|font_color_format|\n+-------+------------------+-----------------+-------------+------+-----------+-----------+-----------------------+-----------------+\n|  count|               397|              397|          397|   397|        397|        397|                    397|              397|\n|   mean|             408.0|             NULL|         NULL|  NULL|       NULL|       NULL|                   NULL|             NULL|\n| stddev|114.74827522305806|             NULL|         NULL|  NULL|       NULL|       NULL|                   NULL|             NULL|\n|    min|               210|     AWC Logo Cap|        $0.86| Black| Bib-Shorts|Accessories|                #000000|          #000000|\n|    max|               606|Women's Tights, S|        $96.8|Yellow|     Wheels| Components|                #FFFFFF|          #FFFFFF|\n+-------+------------------+-----------------+-------------+------+-----------+-----------+-----------------------+-----------------+\n\nRegion\n+-------+------------------+--------------+-------------+-------+\n|summary| salesterritorykey|        region|      country|  group|\n+-------+------------------+--------------+-------------+-------+\n|  count|                10|            10|           10|     10|\n|   mean|               5.5|          NULL|         NULL|   NULL|\n| stddev|3.0276503540974917|          NULL|         NULL|   NULL|\n|    min|                 1|     Australia|    Australia| Europe|\n|    max|                10|United Kingdom|United States|Pacific|\n+-------+------------------+--------------+-------------+-------+\n\nReseller\n+-------+------------------+-------------------+--------------------+--------+--------------+--------------+\n|summary|       resellerkey|      business_type|            reseller|    city|state-province|country-region|\n+-------+------------------+-------------------+--------------------+--------+--------------+--------------+\n|  count|               701|                701|                 701|     701|           701|           701|\n|   mean|             351.0|               NULL|                NULL|    NULL|          NULL|          NULL|\n| stddev|202.50555547934962|               NULL|                NULL|    NULL|          NULL|          NULL|\n|    min|                 1|Specialty Bike Shop|A Bicycle Associa...|Abingdon|       Alabama|     Australia|\n|    max|               701|          Warehouse|     eCommerce Bikes| Zeeland|       Wyoming| United States|\n+-------+------------------+-------------------+--------------------+--------+--------------+--------------+\n\nSales\n+-------+----------------+--------------------+------------------+------------------+-----------------+------------------+------------------+----------+---------+-------+\n|summary|salesordernumber|           orderdate|        productkey|       resellerkey|      employeekey| salesterritorykey|          quantity|unit_price|    sales|   cost|\n+-------+----------------+--------------------+------------------+------------------+-----------------+------------------+------------------+----------+---------+-------+\n|  count|           57851|               57851|             57851|             57851|            57851|             57851|             57851|     57851|    57851|  57851|\n|   mean|            NULL|                NULL|408.63670463777635|340.74297764947886|286.1317349743306| 4.554424296900659|3.5282709028365975|      NULL|     NULL|   NULL|\n| stddev|            NULL|                NULL| 113.6656448448742| 205.4939056535605|4.521832274391641|2.4122468970860806| 3.035766376461308|      NULL|     NULL|   NULL|\n|    min|         SO43659|Friday, April 10,...|               212|                 1|              272|                 1|                 1| $1,020.59|$1,000.25|  $0.86|\n|    max|         SO69565|Wednesday, Septem...|               606|               701|              296|                10|                44|   $986.57|  $991.34|$999.26|\n+-------+----------------+--------------------+------------------+------------------+-----------------+------------------+------------------+----------+---------+-------+\n\nSalesperson\n+-------+------------------+-------------------+-----------+--------------------+--------------------+\n|summary|       employeekey|         employeeid|salesperson|               title|                 upn|\n+-------+------------------+-------------------+-----------+--------------------+--------------------+\n|  count|                18|                 18|         18|                  18|                  18|\n|   mean|286.94444444444446|      4.928963355E8|       NULL|                NULL|                NULL|\n| stddev| 6.421216874066097|3.341403265570515E8|       NULL|                NULL|                NULL|\n|    min|               272|           61161660|Amy Alberts|   Director of Sales|amy-alberts@adven...|\n|    max|               296|          987554265|Tsvi Reiter|Sales Representative|tsvi-reiter@adven...|\n+-------+------------------+-------------------+-----------+--------------------+--------------------+\n\nSalespersonRegion\n+-------+------------------+-----------------+\n|summary|       employeekey|salesterritorykey|\n+-------+------------------+-----------------+\n|  count|                39|               39|\n|   mean|282.53846153846155|5.102564102564102|\n| stddev| 7.401444218408879|2.817192254662449|\n|    min|               272|                1|\n|    max|               296|               10|\n+-------+------------------+-----------------+\n\nTargets\n+-------+--------------------+----------+--------------------+\n|summary|          employeeid|    target|         targetmonth|\n+-------+--------------------+----------+--------------------+\n|  count|                 809|       809|                 809|\n|   mean|4.5939919809147096E8|      NULL|                NULL|\n| stddev|3.2125234828852737E8|      NULL|                NULL|\n|    min|            61161660|$1,000,000|Friday, December ...|\n|    max|           987554265|  $950,000|Wednesday, Septem...|\n+-------+--------------------+----------+--------------------+\n\n"
     ]
    }
   ],
   "source": [
    "files = [\n",
    "    \"Product\",\n",
    "    \"Region\",\n",
    "    \"Reseller\",\n",
    "    \"Sales\",\n",
    "    \"Salesperson\",\n",
    "    \"SalespersonRegion\",\n",
    "    \"Targets\"\n",
    "]\n",
    "\n",
    "for file in files:\n",
    "    df = spark.read.format(\"delta\").load(\"/mnt/bronze/\" + file)\n",
    "    print(file)\n",
    "    df.describe().show()\n"
   ]
  },
  {
   "cell_type": "markdown",
   "metadata": {
    "application/vnd.databricks.v1+cell": {
     "cellMetadata": {
      "byteLimit": 2048000,
      "rowLimit": 10000
     },
     "inputWidgets": {},
     "nuid": "846cc918-70fa-4fbd-9d3c-89ab58df711b",
     "showTitle": false,
     "tableResultSettingsMap": {},
     "title": ""
    }
   },
   "source": [
    "## Product\n",
    "\n",
    "standard cost -> string to float"
   ]
  },
  {
   "cell_type": "code",
   "execution_count": 0,
   "metadata": {
    "application/vnd.databricks.v1+cell": {
     "cellMetadata": {
      "byteLimit": 2048000,
      "rowLimit": 10000
     },
     "inputWidgets": {},
     "nuid": "9e513d66-46fe-47e4-b490-17805595b203",
     "showTitle": false,
     "tableResultSettingsMap": {},
     "title": ""
    }
   },
   "outputs": [],
   "source": [
    "from pyspark.sql.functions import regexp_replace\n",
    "\n",
    "# Read Delta from Bronze\n",
    "df = spark.read.format(\"delta\").load(\"/mnt/bronze/Product\")\n",
    "\n",
    "# Clean standard_cost column: remove $, commas → cast to double\n",
    "df = df.withColumn(\"standard_cost\", regexp_replace(\"standard_cost\", \"[$,]\", \"\").cast(\"double\"))\n",
    "\n",
    "# Write to Silver layer\n",
    "df.write.format(\"delta\").mode(\"overwrite\").save(\"/mnt/silver/Product\")\n",
    "\n"
   ]
  },
  {
   "cell_type": "markdown",
   "metadata": {
    "application/vnd.databricks.v1+cell": {
     "cellMetadata": {
      "byteLimit": 2048000,
      "rowLimit": 10000
     },
     "inputWidgets": {},
     "nuid": "5c9cc2d5-6439-4aec-ac48-5daddd3665df",
     "showTitle": false,
     "tableResultSettingsMap": {},
     "title": ""
    }
   },
   "source": [
    "## Region"
   ]
  },
  {
   "cell_type": "code",
   "execution_count": 0,
   "metadata": {
    "application/vnd.databricks.v1+cell": {
     "cellMetadata": {
      "byteLimit": 2048000,
      "rowLimit": 10000
     },
     "inputWidgets": {},
     "nuid": "c995d77d-fbf9-4d20-b6c6-f62678538d20",
     "showTitle": false,
     "tableResultSettingsMap": {},
     "title": ""
    }
   },
   "outputs": [],
   "source": [
    "# Write to Silver layer\n",
    "\n",
    "df = spark.read.format(\"delta\").load(\"/mnt/bronze/Region\")\n",
    "\n",
    "df.write.format(\"delta\").mode(\"overwrite\").save(\"/mnt/silver/Region\")\n"
   ]
  },
  {
   "cell_type": "markdown",
   "metadata": {
    "application/vnd.databricks.v1+cell": {
     "cellMetadata": {
      "byteLimit": 2048000,
      "rowLimit": 10000
     },
     "inputWidgets": {},
     "nuid": "673e4e28-6147-44b3-978c-2b96e084a53a",
     "showTitle": false,
     "tableResultSettingsMap": {},
     "title": ""
    }
   },
   "source": [
    "# Reseller\n",
    "\n",
    "Change column name"
   ]
  },
  {
   "cell_type": "code",
   "execution_count": 0,
   "metadata": {
    "application/vnd.databricks.v1+cell": {
     "cellMetadata": {
      "byteLimit": 2048000,
      "rowLimit": 10000
     },
     "inputWidgets": {},
     "nuid": "0f25144d-a50d-4699-8def-b7f1c635043b",
     "showTitle": false,
     "tableResultSettingsMap": {},
     "title": ""
    }
   },
   "outputs": [],
   "source": [
    "\n",
    "# Read Delta from Bronze\n",
    "df = spark.read.format(\"delta\").load(\"/mnt/bronze/Reseller\")\n",
    "\n",
    "# Clean standard_cost column: remove $, commas → cast to double\n",
    "df = df.withColumnRenamed(\"state-province\",\"state_province\").withColumnRenamed(\"country-region\",\"country_region\")\n",
    "\n",
    "# Write to Silver layer\n",
    "df.write.format(\"delta\").mode(\"overwrite\").save(\"/mnt/silver/Reseller\")"
   ]
  },
  {
   "cell_type": "markdown",
   "metadata": {
    "application/vnd.databricks.v1+cell": {
     "cellMetadata": {
      "byteLimit": 2048000,
      "rowLimit": 10000
     },
     "inputWidgets": {},
     "nuid": "218a5497-d8b8-4706-9775-f2d95c4bc2ff",
     "showTitle": false,
     "tableResultSettingsMap": {},
     "title": ""
    }
   },
   "source": [
    "## Sales\n",
    "Remove duplicates\n",
    "Change data type -> orderdate, unit_price, sales and cost"
   ]
  },
  {
   "cell_type": "code",
   "execution_count": 0,
   "metadata": {
    "application/vnd.databricks.v1+cell": {
     "cellMetadata": {
      "byteLimit": 2048000,
      "rowLimit": 10000
     },
     "inputWidgets": {},
     "nuid": "50bad092-2915-4048-a2a8-0adc7419ff4e",
     "showTitle": false,
     "tableResultSettingsMap": {},
     "title": ""
    }
   },
   "outputs": [],
   "source": [
    "from pyspark.sql.functions import regexp_replace, to_date, trim\n",
    "\n",
    "df = spark.read.format(\"delta\").load(\"/mnt/bronze/Sales\")\n",
    "\n",
    "# Clean $ fields\n",
    "df = df.withColumn(\"unit_price\", regexp_replace(\"unit_price\", \"[$,]\", \"\").cast(\"double\")) \\\n",
    "       .withColumn(\"sales\", regexp_replace(\"sales\", \"[$,]\", \"\").cast(\"double\")) \\\n",
    "       .withColumn(\"cost\", regexp_replace(\"cost\", \"[$,]\", \"\").cast(\"double\"))\n",
    "\n",
    "\n",
    "# Clean and store raw date parsing result\n",
    "\n",
    "df = df.withColumn(\"orderdate\", trim(regexp_replace(\"orderdate\", \"^[A-Za-z]+,\\\\s*\", \"\")))\n",
    "\n",
    "df = df.withColumn(\"orderdate\", to_date(\"orderdate\", \"MMMM d, yyyy\"))\n",
    "\n",
    "\n",
    "# Remove duplicate rows\n",
    "df = df.dropDuplicates()\n",
    "\n",
    "# Save to Silver\n",
    "df.write.format(\"delta\").mode(\"overwrite\").save(\"/mnt/silver/Sales\")\n",
    "\n"
   ]
  },
  {
   "cell_type": "markdown",
   "metadata": {
    "application/vnd.databricks.v1+cell": {
     "cellMetadata": {
      "byteLimit": 2048000,
      "rowLimit": 10000
     },
     "inputWidgets": {},
     "nuid": "cef78c06-d010-4561-8e61-247cad2f8200",
     "showTitle": false,
     "tableResultSettingsMap": {},
     "title": ""
    }
   },
   "source": [
    "## Sales Person\n",
    "\n"
   ]
  },
  {
   "cell_type": "code",
   "execution_count": 0,
   "metadata": {
    "application/vnd.databricks.v1+cell": {
     "cellMetadata": {
      "byteLimit": 2048000,
      "rowLimit": 10000
     },
     "inputWidgets": {},
     "nuid": "d6941147-fd42-4c1e-b416-79fcb0ab061a",
     "showTitle": false,
     "tableResultSettingsMap": {},
     "title": ""
    }
   },
   "outputs": [],
   "source": [
    "# Write to Silver layer\n",
    "\n",
    "df = spark.read.format(\"delta\").load(\"/mnt/bronze/Salesperson\")\n",
    "\n",
    "df.write.format(\"delta\").mode(\"overwrite\").save(\"/mnt/silver/Salesperson\")"
   ]
  },
  {
   "cell_type": "markdown",
   "metadata": {
    "application/vnd.databricks.v1+cell": {
     "cellMetadata": {
      "byteLimit": 2048000,
      "rowLimit": 10000
     },
     "inputWidgets": {},
     "nuid": "385efe13-2139-4e17-b5e0-7dd238a94bcf",
     "showTitle": false,
     "tableResultSettingsMap": {},
     "title": ""
    }
   },
   "source": [
    "## Sales Person Region"
   ]
  },
  {
   "cell_type": "code",
   "execution_count": 0,
   "metadata": {
    "application/vnd.databricks.v1+cell": {
     "cellMetadata": {
      "byteLimit": 2048000,
      "rowLimit": 10000
     },
     "inputWidgets": {},
     "nuid": "a3ccecca-32e6-4b6f-ab85-df5d90febdf4",
     "showTitle": false,
     "tableResultSettingsMap": {},
     "title": ""
    }
   },
   "outputs": [],
   "source": [
    "df = spark.read.format(\"delta\").load(\"/mnt/bronze/SalespersonRegion\")\n",
    "\n",
    "df.write.format(\"delta\").mode(\"overwrite\").save(\"/mnt/silver/SalespersonRegion\")"
   ]
  },
  {
   "cell_type": "markdown",
   "metadata": {
    "application/vnd.databricks.v1+cell": {
     "cellMetadata": {
      "byteLimit": 2048000,
      "rowLimit": 10000
     },
     "inputWidgets": {},
     "nuid": "48f4b3bd-e2ce-46f2-b776-462c6dab4ecb",
     "showTitle": false,
     "tableResultSettingsMap": {},
     "title": ""
    }
   },
   "source": [
    "## Targets"
   ]
  },
  {
   "cell_type": "code",
   "execution_count": 0,
   "metadata": {
    "application/vnd.databricks.v1+cell": {
     "cellMetadata": {
      "byteLimit": 2048000,
      "rowLimit": 10000
     },
     "inputWidgets": {},
     "nuid": "a85ee806-9eed-4242-96f7-d8439b7d3539",
     "showTitle": false,
     "tableResultSettingsMap": {},
     "title": ""
    }
   },
   "outputs": [
    {
     "output_type": "display_data",
     "data": {
      "text/html": [
       "<style scoped>\n",
       "  .table-result-container {\n",
       "    max-height: 300px;\n",
       "    overflow: auto;\n",
       "  }\n",
       "  table, th, td {\n",
       "    border: 1px solid black;\n",
       "    border-collapse: collapse;\n",
       "  }\n",
       "  th, td {\n",
       "    padding: 5px;\n",
       "  }\n",
       "  th {\n",
       "    text-align: left;\n",
       "  }\n",
       "</style><div class='table-result-container'><table class='table-result'><thead style='background-color: white'><tr><th>employee_key</th><th>employee_id</th><th>salesperson</th><th>month</th><th>year</th><th>target</th><th>total_sales</th><th>target_achievement_pct</th></tr></thead><tbody><tr><td>292</td><td>null</td><td>Ranjit Varkey Chudukatil</td><td>8</td><td>2018</td><td>null</td><td>265288.35</td><td>null</td></tr><tr><td>289</td><td>null</td><td>David Campbell</td><td>12</td><td>2018</td><td>null</td><td>10236.31</td><td>null</td></tr><tr><td>281</td><td>null</td><td>Michael Blythe</td><td>7</td><td>2019</td><td>null</td><td>249177.96</td><td>null</td></tr><tr><td>288</td><td>null</td><td>José Saraiva</td><td>7</td><td>2019</td><td>null</td><td>155252.69000000003</td><td>null</td></tr><tr><td>285</td><td>null</td><td>Tsvi Reiter</td><td>3</td><td>2018</td><td>null</td><td>167507.91999999998</td><td>null</td></tr><tr><td>288</td><td>null</td><td>José Saraiva</td><td>10</td><td>2018</td><td>null</td><td>63443.87000000002</td><td>null</td></tr><tr><td>288</td><td>null</td><td>José Saraiva</td><td>3</td><td>2019</td><td>null</td><td>115840.99</td><td>null</td></tr><tr><td>296</td><td>null</td><td>Lynn Tsoflias</td><td>8</td><td>2019</td><td>null</td><td>145995.97999999998</td><td>null</td></tr><tr><td>293</td><td>null</td><td>Tete Mensa-Annan</td><td>2</td><td>2020</td><td>null</td><td>162756.22000000003</td><td>null</td></tr><tr><td>286</td><td>null</td><td>Pamela Ansman-Wolfe</td><td>9</td><td>2018</td><td>null</td><td>97559.83000000003</td><td>null</td></tr><tr><td>289</td><td>null</td><td>David Campbell</td><td>1</td><td>2020</td><td>null</td><td>100843.15</td><td>null</td></tr><tr><td>288</td><td>null</td><td>José Saraiva</td><td>8</td><td>2019</td><td>null</td><td>201741.88999999998</td><td>null</td></tr><tr><td>281</td><td>null</td><td>Michael Blythe</td><td>12</td><td>2018</td><td>null</td><td>223032.22000000006</td><td>null</td></tr><tr><td>272</td><td>null</td><td>Stephen Jiang</td><td>11</td><td>2019</td><td>null</td><td>90810.09999999998</td><td>null</td></tr><tr><td>272</td><td>null</td><td>Stephen Jiang</td><td>10</td><td>2019</td><td>null</td><td>1946.01</td><td>null</td></tr><tr><td>285</td><td>null</td><td>Tsvi Reiter</td><td>12</td><td>2019</td><td>null</td><td>185055.12000000005</td><td>null</td></tr><tr><td>295</td><td>null</td><td>Rachel Valdez</td><td>5</td><td>2020</td><td>null</td><td>194027.03000000006</td><td>null</td></tr><tr><td>285</td><td>null</td><td>Tsvi Reiter</td><td>6</td><td>2019</td><td>null</td><td>148992.63</td><td>null</td></tr><tr><td>286</td><td>null</td><td>Pamela Ansman-Wolfe</td><td>4</td><td>2019</td><td>null</td><td>49349.55000000001</td><td>null</td></tr><tr><td>282</td><td>null</td><td>Linda Mitchell</td><td>3</td><td>2020</td><td>null</td><td>237673.21000000008</td><td>null</td></tr><tr><td>284</td><td>null</td><td>Garrett Vargas</td><td>3</td><td>2020</td><td>null</td><td>111109.40000000002</td><td>null</td></tr><tr><td>291</td><td>null</td><td>Jae Pak</td><td>5</td><td>2019</td><td>null</td><td>253207.28999999998</td><td>null</td></tr><tr><td>285</td><td>null</td><td>Tsvi Reiter</td><td>7</td><td>2019</td><td>null</td><td>171310.47000000003</td><td>null</td></tr><tr><td>293</td><td>null</td><td>Tete Mensa-Annan</td><td>6</td><td>2019</td><td>null</td><td>35479.44</td><td>null</td></tr><tr><td>291</td><td>null</td><td>Jae Pak</td><td>8</td><td>2018</td><td>null</td><td>332029.38999999996</td><td>null</td></tr><tr><td>292</td><td>null</td><td>Ranjit Varkey Chudukatil</td><td>4</td><td>2019</td><td>null</td><td>56947.23</td><td>null</td></tr><tr><td>282</td><td>null</td><td>Linda Mitchell</td><td>5</td><td>2019</td><td>null</td><td>615217.05</td><td>null</td></tr><tr><td>289</td><td>null</td><td>David Campbell</td><td>5</td><td>2019</td><td>null</td><td>106781.25</td><td>null</td></tr><tr><td>281</td><td>null</td><td>Michael Blythe</td><td>10</td><td>2018</td><td>null</td><td>319343.43999999994</td><td>null</td></tr><tr><td>286</td><td>null</td><td>Pamela Ansman-Wolfe</td><td>10</td><td>2017</td><td>null</td><td>57740.93</td><td>null</td></tr><tr><td>294</td><td>null</td><td>Syed Abbas</td><td>9</td><td>2019</td><td>null</td><td>117706.35999999999</td><td>null</td></tr><tr><td>292</td><td>null</td><td>Ranjit Varkey Chudukatil</td><td>5</td><td>2019</td><td>null</td><td>188371.72</td><td>null</td></tr><tr><td>282</td><td>null</td><td>Linda Mitchell</td><td>8</td><td>2019</td><td>null</td><td>662737.3199999998</td><td>null</td></tr><tr><td>286</td><td>null</td><td>Pamela Ansman-Wolfe</td><td>5</td><td>2020</td><td>null</td><td>57072.70000000001</td><td>null</td></tr><tr><td>281</td><td>null</td><td>Michael Blythe</td><td>8</td><td>2018</td><td>null</td><td>443964.3200000002</td><td>null</td></tr><tr><td>286</td><td>null</td><td>Pamela Ansman-Wolfe</td><td>10</td><td>2018</td><td>null</td><td>82909.22000000002</td><td>null</td></tr><tr><td>290</td><td>null</td><td>Amy Alberts</td><td>11</td><td>2018</td><td>null</td><td>12648.09</td><td>null</td></tr><tr><td>272</td><td>null</td><td>Stephen Jiang</td><td>10</td><td>2018</td><td>null</td><td>56210.83</td><td>null</td></tr><tr><td>281</td><td>null</td><td>Michael Blythe</td><td>7</td><td>2018</td><td>null</td><td>421440.9900000001</td><td>null</td></tr><tr><td>287</td><td>null</td><td>Shu Ito</td><td>1</td><td>2020</td><td>null</td><td>212602.7200000001</td><td>null</td></tr><tr><td>289</td><td>null</td><td>David Campbell</td><td>12</td><td>2017</td><td>null</td><td>85139.26000000001</td><td>null</td></tr><tr><td>295</td><td>null</td><td>Rachel Valdez</td><td>4</td><td>2020</td><td>null</td><td>162217.62999999995</td><td>null</td></tr><tr><td>284</td><td>null</td><td>Garrett Vargas</td><td>10</td><td>2018</td><td>null</td><td>3025.72</td><td>null</td></tr><tr><td>292</td><td>null</td><td>Ranjit Varkey Chudukatil</td><td>5</td><td>2020</td><td>null</td><td>608336.7300000002</td><td>null</td></tr><tr><td>285</td><td>null</td><td>Tsvi Reiter</td><td>9</td><td>2017</td><td>null</td><td>138208.88</td><td>null</td></tr><tr><td>296</td><td>null</td><td>Lynn Tsoflias</td><td>4</td><td>2020</td><td>null</td><td>58814.28999999999</td><td>null</td></tr><tr><td>272</td><td>null</td><td>Stephen Jiang</td><td>4</td><td>2018</td><td>null</td><td>33406.630000000005</td><td>null</td></tr><tr><td>283</td><td>null</td><td>Jillian Carson</td><td>3</td><td>2020</td><td>null</td><td>278365.71</td><td>null</td></tr><tr><td>286</td><td>null</td><td>Pamela Ansman-Wolfe</td><td>8</td><td>2018</td><td>null</td><td>232870.14</td><td>null</td></tr><tr><td>293</td><td>null</td><td>Tete Mensa-Annan</td><td>4</td><td>2020</td><td>null</td><td>102930.67000000001</td><td>null</td></tr><tr><td>282</td><td>null</td><td>Linda Mitchell</td><td>12</td><td>2018</td><td>null</td><td>272719.4099999999</td><td>null</td></tr><tr><td>289</td><td>null</td><td>David Campbell</td><td>4</td><td>2019</td><td>null</td><td>155484.74000000002</td><td>null</td></tr><tr><td>284</td><td>null</td><td>Garrett Vargas</td><td>9</td><td>2019</td><td>null</td><td>182189.21</td><td>null</td></tr><tr><td>288</td><td>null</td><td>José Saraiva</td><td>7</td><td>2017</td><td>null</td><td>106251.69</td><td>null</td></tr><tr><td>282</td><td>null</td><td>Linda Mitchell</td><td>7</td><td>2019</td><td>null</td><td>321478.99</td><td>null</td></tr><tr><td>287</td><td>null</td><td>Shu Ito</td><td>7</td><td>2018</td><td>null</td><td>170371.19</td><td>null</td></tr><tr><td>287</td><td>null</td><td>Shu Ito</td><td>2</td><td>2020</td><td>null</td><td>85873.5</td><td>null</td></tr><tr><td>272</td><td>null</td><td>Stephen Jiang</td><td>2</td><td>2019</td><td>null</td><td>97301.66</td><td>null</td></tr><tr><td>292</td><td>null</td><td>Ranjit Varkey Chudukatil</td><td>8</td><td>2019</td><td>null</td><td>711243.3099999998</td><td>null</td></tr><tr><td>283</td><td>null</td><td>Jillian Carson</td><td>4</td><td>2019</td><td>null</td><td>401224.64000000013</td><td>null</td></tr><tr><td>283</td><td>null</td><td>Jillian Carson</td><td>9</td><td>2018</td><td>null</td><td>457822.64000000013</td><td>null</td></tr><tr><td>289</td><td>null</td><td>David Campbell</td><td>2</td><td>2020</td><td>null</td><td>83625.96999999999</td><td>null</td></tr><tr><td>285</td><td>null</td><td>Tsvi Reiter</td><td>1</td><td>2018</td><td>null</td><td>140581.53</td><td>null</td></tr><tr><td>293</td><td>null</td><td>Tete Mensa-Annan</td><td>3</td><td>2019</td><td>null</td><td>30335.5</td><td>null</td></tr><tr><td>282</td><td>null</td><td>Linda Mitchell</td><td>6</td><td>2018</td><td>null</td><td>146343.84999999995</td><td>null</td></tr><tr><td>286</td><td>null</td><td>Pamela Ansman-Wolfe</td><td>1</td><td>2019</td><td>null</td><td>71863.61</td><td>null</td></tr><tr><td>284</td><td>null</td><td>Garrett Vargas</td><td>8</td><td>2019</td><td>null</td><td>273312.43</td><td>null</td></tr><tr><td>295</td><td>null</td><td>Rachel Valdez</td><td>1</td><td>2020</td><td>null</td><td>112348.03000000003</td><td>null</td></tr><tr><td>292</td><td>null</td><td>Ranjit Varkey Chudukatil</td><td>9</td><td>2019</td><td>null</td><td>199504.56</td><td>null</td></tr><tr><td>293</td><td>null</td><td>Tete Mensa-Annan</td><td>9</td><td>2019</td><td>null</td><td>173670.43</td><td>null</td></tr><tr><td>284</td><td>null</td><td>Garrett Vargas</td><td>7</td><td>2019</td><td>null</td><td>17713.04</td><td>null</td></tr><tr><td>282</td><td>null</td><td>Linda Mitchell</td><td>3</td><td>2018</td><td>null</td><td>205046.33000000005</td><td>null</td></tr><tr><td>272</td><td>null</td><td>Stephen Jiang</td><td>8</td><td>2019</td><td>null</td><td>130269.21999999999</td><td>null</td></tr><tr><td>283</td><td>null</td><td>Jillian Carson</td><td>1</td><td>2020</td><td>null</td><td>165474.58000000002</td><td>null</td></tr><tr><td>281</td><td>null</td><td>Michael Blythe</td><td>8</td><td>2017</td><td>null</td><td>108543.01000000001</td><td>null</td></tr><tr><td>285</td><td>null</td><td>Tsvi Reiter</td><td>2</td><td>2019</td><td>null</td><td>212956.07</td><td>null</td></tr><tr><td>287</td><td>null</td><td>Shu Ito</td><td>4</td><td>2019</td><td>null</td><td>87939.12</td><td>null</td></tr><tr><td>284</td><td>null</td><td>Garrett Vargas</td><td>11</td><td>2017</td><td>null</td><td>197482.15000000002</td><td>null</td></tr><tr><td>283</td><td>null</td><td>Jillian Carson</td><td>7</td><td>2018</td><td>null</td><td>402575.42999999993</td><td>null</td></tr><tr><td>292</td><td>null</td><td>Ranjit Varkey Chudukatil</td><td>9</td><td>2018</td><td>null</td><td>164074.90999999997</td><td>null</td></tr><tr><td>292</td><td>null</td><td>Ranjit Varkey Chudukatil</td><td>7</td><td>2018</td><td>null</td><td>98193.10999999996</td><td>null</td></tr><tr><td>281</td><td>null</td><td>Michael Blythe</td><td>3</td><td>2019</td><td>null</td><td>260647.45999999985</td><td>null</td></tr><tr><td>288</td><td>null</td><td>José Saraiva</td><td>11</td><td>2017</td><td>null</td><td>185035.03000000003</td><td>null</td></tr><tr><td>287</td><td>null</td><td>Shu Ito</td><td>8</td><td>2019</td><td>null</td><td>131520.91</td><td>null</td></tr><tr><td>286</td><td>null</td><td>Pamela Ansman-Wolfe</td><td>7</td><td>2019</td><td>null</td><td>115105.39999999997</td><td>null</td></tr><tr><td>292</td><td>null</td><td>Ranjit Varkey Chudukatil</td><td>11</td><td>2019</td><td>null</td><td>617173.0600000002</td><td>null</td></tr><tr><td>289</td><td>null</td><td>David Campbell</td><td>5</td><td>2020</td><td>null</td><td>110995.96000000002</td><td>null</td></tr><tr><td>291</td><td>null</td><td>Jae Pak</td><td>11</td><td>2018</td><td>null</td><td>283397.57000000007</td><td>null</td></tr><tr><td>282</td><td>null</td><td>Linda Mitchell</td><td>6</td><td>2019</td><td>null</td><td>264240.3100000001</td><td>null</td></tr><tr><td>290</td><td>null</td><td>Amy Alberts</td><td>11</td><td>2019</td><td>null</td><td>54515.71000000001</td><td>null</td></tr><tr><td>285</td><td>null</td><td>Tsvi Reiter</td><td>7</td><td>2018</td><td>null</td><td>177941.5</td><td>null</td></tr><tr><td>281</td><td>null</td><td>Michael Blythe</td><td>2</td><td>2018</td><td>null</td><td>155830.99</td><td>null</td></tr><tr><td>284</td><td>null</td><td>Garrett Vargas</td><td>2</td><td>2018</td><td>null</td><td>113239.59</td><td>null</td></tr><tr><td>292</td><td>null</td><td>Ranjit Varkey Chudukatil</td><td>11</td><td>2018</td><td>null</td><td>180623.74</td><td>null</td></tr><tr><td>285</td><td>null</td><td>Tsvi Reiter</td><td>10</td><td>2018</td><td>null</td><td>144638.36</td><td>null</td></tr><tr><td>287</td><td>null</td><td>Shu Ito</td><td>5</td><td>2019</td><td>null</td><td>194265.36999999994</td><td>null</td></tr><tr><td>284</td><td>null</td><td>Garrett Vargas</td><td>10</td><td>2017</td><td>null</td><td>35469.329999999994</td><td>null</td></tr><tr><td>290</td><td>null</td><td>Amy Alberts</td><td>5</td><td>2020</td><td>null</td><td>672.29</td><td>null</td></tr><tr><td>295</td><td>null</td><td>Rachel Valdez</td><td>12</td><td>2019</td><td>null</td><td>97990.79000000001</td><td>null</td></tr><tr><td>282</td><td>null</td><td>Linda Mitchell</td><td>7</td><td>2018</td><td>null</td><td>112241.15</td><td>null</td></tr><tr><td>282</td><td>null</td><td>Linda Mitchell</td><td>2</td><td>2019</td><td>null</td><td>532880.3900000002</td><td>null</td></tr><tr><td>290</td><td>null</td><td>Amy Alberts</td><td>2</td><td>2019</td><td>null</td><td>29648.980000000003</td><td>null</td></tr><tr><td>272</td><td>null</td><td>Stephen Jiang</td><td>3</td><td>2018</td><td>null</td><td>18307.71</td><td>null</td></tr><tr><td>296</td><td>null</td><td>Lynn Tsoflias</td><td>9</td><td>2019</td><td>null</td><td>160976.15</td><td>null</td></tr><tr><td>287</td><td>null</td><td>Shu Ito</td><td>6</td><td>2019</td><td>null</td><td>238160.20000000004</td><td>null</td></tr><tr><td>285</td><td>null</td><td>Tsvi Reiter</td><td>5</td><td>2018</td><td>null</td><td>375132.88</td><td>null</td></tr><tr><td>281</td><td>null</td><td>Michael Blythe</td><td>1</td><td>2018</td><td>null</td><td>124082.55999999997</td><td>null</td></tr><tr><td>287</td><td>null</td><td>Shu Ito</td><td>7</td><td>2019</td><td>null</td><td>367168.93000000005</td><td>null</td></tr><tr><td>284</td><td>null</td><td>Garrett Vargas</td><td>2</td><td>2019</td><td>null</td><td>120320.53000000003</td><td>null</td></tr><tr><td>289</td><td>null</td><td>David Campbell</td><td>3</td><td>2020</td><td>null</td><td>109955.57000000004</td><td>null</td></tr><tr><td>283</td><td>null</td><td>Jillian Carson</td><td>11</td><td>2019</td><td>null</td><td>225681.26999999993</td><td>null</td></tr><tr><td>285</td><td>null</td><td>Tsvi Reiter</td><td>8</td><td>2019</td><td>null</td><td>279350.52999999997</td><td>null</td></tr><tr><td>285</td><td>null</td><td>Tsvi Reiter</td><td>2</td><td>2020</td><td>null</td><td>188539.7</td><td>null</td></tr><tr><td>288</td><td>null</td><td>José Saraiva</td><td>12</td><td>2019</td><td>null</td><td>275986.85000000003</td><td>null</td></tr><tr><td>293</td><td>null</td><td>Tete Mensa-Annan</td><td>12</td><td>2019</td><td>null</td><td>127382.26000000004</td><td>null</td></tr><tr><td>283</td><td>null</td><td>Jillian Carson</td><td>5</td><td>2018</td><td>null</td><td>464190.61</td><td>null</td></tr><tr><td>288</td><td>null</td><td>José Saraiva</td><td>4</td><td>2019</td><td>null</td><td>47236.41</td><td>null</td></tr><tr><td>283</td><td>null</td><td>Jillian Carson</td><td>8</td><td>2018</td><td>null</td><td>406918.9599999999</td><td>null</td></tr><tr><td>293</td><td>null</td><td>Tete Mensa-Annan</td><td>3</td><td>2020</td><td>null</td><td>151149.05000000002</td><td>null</td></tr><tr><td>272</td><td>null</td><td>Stephen Jiang</td><td>4</td><td>2019</td><td>null</td><td>43633.78</td><td>null</td></tr><tr><td>272</td><td>null</td><td>Stephen Jiang</td><td>6</td><td>2019</td><td>null</td><td>1466.01</td><td>null</td></tr><tr><td>290</td><td>null</td><td>Amy Alberts</td><td>5</td><td>2019</td><td>null</td><td>43180.87</td><td>null</td></tr><tr><td>272</td><td>null</td><td>Stephen Jiang</td><td>6</td><td>2018</td><td>null</td><td>60980.78</td><td>null</td></tr><tr><td>289</td><td>null</td><td>David Campbell</td><td>2</td><td>2019</td><td>null</td><td>94079.9</td><td>null</td></tr><tr><td>287</td><td>null</td><td>Shu Ito</td><td>9</td><td>2019</td><td>null</td><td>269700.3399999999</td><td>null</td></tr><tr><td>287</td><td>null</td><td>Shu Ito</td><td>4</td><td>2020</td><td>null</td><td>267169.33</td><td>null</td></tr><tr><td>281</td><td>null</td><td>Michael Blythe</td><td>5</td><td>2020</td><td>null</td><td>244075.18000000002</td><td>null</td></tr><tr><td>288</td><td>null</td><td>José Saraiva</td><td>5</td><td>2019</td><td>null</td><td>69047.66</td><td>null</td></tr><tr><td>292</td><td>null</td><td>Ranjit Varkey Chudukatil</td><td>7</td><td>2019</td><td>null</td><td>55775.84</td><td>null</td></tr><tr><td>284</td><td>null</td><td>Garrett Vargas</td><td>6</td><td>2018</td><td>null</td><td>24978.83</td><td>null</td></tr><tr><td>294</td><td>null</td><td>Syed Abbas</td><td>11</td><td>2019</td><td>null</td><td>2860.88</td><td>null</td></tr><tr><td>283</td><td>null</td><td>Jillian Carson</td><td>12</td><td>2019</td><td>null</td><td>326183.32000000007</td><td>null</td></tr><tr><td>287</td><td>null</td><td>Shu Ito</td><td>10</td><td>2019</td><td>null</td><td>312258.14</td><td>null</td></tr><tr><td>284</td><td>null</td><td>Garrett Vargas</td><td>1</td><td>2020</td><td>null</td><td>17271.6</td><td>null</td></tr><tr><td>291</td><td>null</td><td>Jae Pak</td><td>4</td><td>2020</td><td>null</td><td>370602.30000000005</td><td>null</td></tr><tr><td>283</td><td>null</td><td>Jillian Carson</td><td>6</td><td>2019</td><td>null</td><td>277959.85</td><td>null</td></tr><tr><td>284</td><td>null</td><td>Garrett Vargas</td><td>5</td><td>2019</td><td>null</td><td>215202.18000000002</td><td>null</td></tr><tr><td>286</td><td>null</td><td>Pamela Ansman-Wolfe</td><td>12</td><td>2019</td><td>null</td><td>179036.11000000004</td><td>null</td></tr><tr><td>287</td><td>null</td><td>Shu Ito</td><td>8</td><td>2018</td><td>null</td><td>251234.14</td><td>null</td></tr><tr><td>285</td><td>null</td><td>Tsvi Reiter</td><td>10</td><td>2019</td><td>null</td><td>153459.86000000004</td><td>null</td></tr><tr><td>289</td><td>null</td><td>David Campbell</td><td>4</td><td>2018</td><td>null</td><td>91738.55999999998</td><td>null</td></tr><tr><td>291</td><td>null</td><td>Jae Pak</td><td>3</td><td>2020</td><td>null</td><td>353918.0</td><td>null</td></tr><tr><td>288</td><td>null</td><td>José Saraiva</td><td>2</td><td>2020</td><td>null</td><td>110760.36000000002</td><td>null</td></tr><tr><td>296</td><td>null</td><td>Lynn Tsoflias</td><td>7</td><td>2019</td><td>null</td><td>54329.44</td><td>null</td></tr><tr><td>289</td><td>null</td><td>David Campbell</td><td>10</td><td>2017</td><td>null</td><td>106853.78</td><td>null</td></tr><tr><td>288</td><td>null</td><td>José Saraiva</td><td>3</td><td>2018</td><td>null</td><td>231555.85999999996</td><td>null</td></tr><tr><td>288</td><td>null</td><td>José Saraiva</td><td>10</td><td>2019</td><td>null</td><td>116260.85</td><td>null</td></tr><tr><td>284</td><td>null</td><td>Garrett Vargas</td><td>12</td><td>2017</td><td>null</td><td>32773.73999999999</td><td>null</td></tr><tr><td>288</td><td>null</td><td>José Saraiva</td><td>1</td><td>2019</td><td>null</td><td>36790.56000000001</td><td>null</td></tr><tr><td>287</td><td>null</td><td>Shu Ito</td><td>9</td><td>2018</td><td>null</td><td>416804.0500000001</td><td>null</td></tr><tr><td>284</td><td>null</td><td>Garrett Vargas</td><td>3</td><td>2018</td><td>null</td><td>85482.03</td><td>null</td></tr><tr><td>292</td><td>null</td><td>Ranjit Varkey Chudukatil</td><td>6</td><td>2019</td><td>null</td><td>87055.78000000001</td><td>null</td></tr><tr><td>284</td><td>null</td><td>Garrett Vargas</td><td>3</td><td>2019</td><td>null</td><td>68726.79</td><td>null</td></tr><tr><td>291</td><td>null</td><td>Jae Pak</td><td>12</td><td>2018</td><td>null</td><td>409224.27</td><td>null</td></tr><tr><td>282</td><td>null</td><td>Linda Mitchell</td><td>5</td><td>2020</td><td>null</td><td>525376.1000000001</td><td>null</td></tr><tr><td>291</td><td>null</td><td>Jae Pak</td><td>11</td><td>2019</td><td>null</td><td>230123.87000000002</td><td>null</td></tr><tr><td>288</td><td>null</td><td>José Saraiva</td><td>4</td><td>2020</td><td>null</td><td>110090.42000000001</td><td>null</td></tr><tr><td>292</td><td>null</td><td>Ranjit Varkey Chudukatil</td><td>2</td><td>2020</td><td>null</td><td>466570.6000000002</td><td>null</td></tr><tr><td>286</td><td>null</td><td>Pamela Ansman-Wolfe</td><td>6</td><td>2018</td><td>null</td><td>58977.10999999999</td><td>null</td></tr><tr><td>289</td><td>null</td><td>David Campbell</td><td>8</td><td>2017</td><td>null</td><td>65119.32000000001</td><td>null</td></tr><tr><td>286</td><td>null</td><td>Pamela Ansman-Wolfe</td><td>8</td><td>2019</td><td>null</td><td>64297.01999999999</td><td>null</td></tr><tr><td>291</td><td>null</td><td>Jae Pak</td><td>1</td><td>2020</td><td>null</td><td>219460.40000000002</td><td>null</td></tr><tr><td>287</td><td>null</td><td>Shu Ito</td><td>1</td><td>2018</td><td>null</td><td>80098.53</td><td>null</td></tr><tr><td>281</td><td>null</td><td>Michael Blythe</td><td>9</td><td>2018</td><td>null</td><td>387548.4800000001</td><td>null</td></tr><tr><td>287</td><td>null</td><td>Shu Ito</td><td>9</td><td>2017</td><td>null</td><td>283627.0399999999</td><td>null</td></tr><tr><td>288</td><td>null</td><td>José Saraiva</td><td>3</td><td>2020</td><td>null</td><td>310931.14000000013</td><td>null</td></tr><tr><td>284</td><td>null</td><td>Garrett Vargas</td><td>4</td><td>2020</td><td>null</td><td>4822.609999999999</td><td>null</td></tr><tr><td>284</td><td>null</td><td>Garrett Vargas</td><td>11</td><td>2019</td><td>null</td><td>204343.42999999993</td><td>null</td></tr><tr><td>293</td><td>null</td><td>Tete Mensa-Annan</td><td>11</td><td>2019</td><td>null</td><td>121366.30000000002</td><td>null</td></tr><tr><td>287</td><td>null</td><td>Shu Ito</td><td>12</td><td>2018</td><td>null</td><td>274753.63000000006</td><td>null</td></tr><tr><td>284</td><td>null</td><td>Garrett Vargas</td><td>6</td><td>2019</td><td>null</td><td>80738.18</td><td>null</td></tr><tr><td>281</td><td>null</td><td>Michael Blythe</td><td>7</td><td>2017</td><td>null</td><td>63762.889999999985</td><td>null</td></tr><tr><td>281</td><td>null</td><td>Michael Blythe</td><td>11</td><td>2019</td><td>null</td><td>407009.30999999994</td><td>null</td></tr><tr><td>288</td><td>null</td><td>José Saraiva</td><td>9</td><td>2018</td><td>null</td><td>209046.02</td><td>null</td></tr><tr><td>287</td><td>null</td><td>Shu Ito</td><td>10</td><td>2017</td><td>null</td><td>98870.18999999997</td><td>null</td></tr><tr><td>289</td><td>null</td><td>David Campbell</td><td>9</td><td>2019</td><td>null</td><td>182682.48</td><td>null</td></tr><tr><td>289</td><td>null</td><td>David Campbell</td><td>11</td><td>2018</td><td>null</td><td>143856.28</td><td>null</td></tr><tr><td>295</td><td>null</td><td>Rachel Valdez</td><td>9</td><td>2019</td><td>null</td><td>131853.24000000002</td><td>null</td></tr><tr><td>290</td><td>null</td><td>Amy Alberts</td><td>4</td><td>2019</td><td>null</td><td>968.4200000000001</td><td>null</td></tr><tr><td>286</td><td>null</td><td>Pamela Ansman-Wolfe</td><td>9</td><td>2019</td><td>null</td><td>187613.08999999997</td><td>null</td></tr><tr><td>289</td><td>null</td><td>David Campbell</td><td>8</td><td>2019</td><td>null</td><td>188606.96999999997</td><td>null</td></tr><tr><td>283</td><td>null</td><td>Jillian Carson</td><td>2</td><td>2019</td><td>null</td><td>305970.38</td><td>null</td></tr><tr><td>285</td><td>null</td><td>Tsvi Reiter</td><td>2</td><td>2018</td><td>null</td><td>311908.01</td><td>null</td></tr><tr><td>288</td><td>null</td><td>José Saraiva</td><td>7</td><td>2018</td><td>null</td><td>82046.63</td><td>null</td></tr><tr><td>281</td><td>null</td><td>Michael Blythe</td><td>2</td><td>2020</td><td>null</td><td>318543.7100000001</td><td>null</td></tr><tr><td>282</td><td>null</td><td>Linda Mitchell</td><td>10</td><td>2017</td><td>null</td><td>5957.97</td><td>null</td></tr><tr><td>286</td><td>null</td><td>Pamela Ansman-Wolfe</td><td>2</td><td>2018</td><td>null</td><td>190103.06000000003</td><td>null</td></tr><tr><td>286</td><td>null</td><td>Pamela Ansman-Wolfe</td><td>6</td><td>2019</td><td>null</td><td>32210.25</td><td>null</td></tr><tr><td>283</td><td>null</td><td>Jillian Carson</td><td>4</td><td>2020</td><td>null</td><td>214341.33999999997</td><td>null</td></tr><tr><td>283</td><td>null</td><td>Jillian Carson</td><td>12</td><td>2017</td><td>null</td><td>302420.20999999996</td><td>null</td></tr><tr><td>272</td><td>null</td><td>Stephen Jiang</td><td>12</td><td>2018</td><td>null</td><td>80477.79000000002</td><td>null</td></tr><tr><td>286</td><td>null</td><td>Pamela Ansman-Wolfe</td><td>9</td><td>2017</td><td>null</td><td>13837.099999999999</td><td>null</td></tr><tr><td>292</td><td>null</td><td>Ranjit Varkey Chudukatil</td><td>3</td><td>2019</td><td>null</td><td>59855.82000000001</td><td>null</td></tr><tr><td>287</td><td>null</td><td>Shu Ito</td><td>3</td><td>2019</td><td>null</td><td>186556.11</td><td>null</td></tr><tr><td>281</td><td>null</td><td>Michael Blythe</td><td>12</td><td>2019</td><td>null</td><td>368720.7100000001</td><td>null</td></tr><tr><td>286</td><td>null</td><td>Pamela Ansman-Wolfe</td><td>2</td><td>2020</td><td>null</td><td>32837.33</td><td>null</td></tr><tr><td>285</td><td>null</td><td>Tsvi Reiter</td><td>1</td><td>2020</td><td>null</td><td>113561.29000000001</td><td>null</td></tr><tr><td>283</td><td>null</td><td>Jillian Carson</td><td>11</td><td>2018</td><td>null</td><td>365959.86</td><td>null</td></tr><tr><td>285</td><td>null</td><td>Tsvi Reiter</td><td>5</td><td>2019</td><td>null</td><td>212648.7900000001</td><td>null</td></tr><tr><td>285</td><td>null</td><td>Tsvi Reiter</td><td>8</td><td>2018</td><td>null</td><td>320528.06999999995</td><td>null</td></tr><tr><td>292</td><td>null</td><td>Ranjit Varkey Chudukatil</td><td>12</td><td>2019</td><td>null</td><td>140311.16999999998</td><td>null</td></tr><tr><td>290</td><td>null</td><td>Amy Alberts</td><td>8</td><td>2019</td><td>null</td><td>111401.21000000002</td><td>null</td></tr><tr><td>281</td><td>null</td><td>Michael Blythe</td><td>5</td><td>2018</td><td>null</td><td>172429.52000000002</td><td>null</td></tr><tr><td>288</td><td>null</td><td>José Saraiva</td><td>2</td><td>2019</td><td>null</td><td>121294.92000000001</td><td>null</td></tr><tr><td>287</td><td>null</td><td>Shu Ito</td><td>8</td><td>2017</td><td>null</td><td>34096.25</td><td>null</td></tr><tr><td>289</td><td>null</td><td>David Campbell</td><td>2</td><td>2018</td><td>null</td><td>126060.9</td><td>null</td></tr><tr><td>282</td><td>null</td><td>Linda Mitchell</td><td>10</td><td>2018</td><td>null</td><td>99103.08000000002</td><td>null</td></tr><tr><td>272</td><td>null</td><td>Stephen Jiang</td><td>11</td><td>2017</td><td>null</td><td>6341.5599999999995</td><td>null</td></tr><tr><td>285</td><td>null</td><td>Tsvi Reiter</td><td>11</td><td>2018</td><td>null</td><td>249243.90000000005</td><td>null</td></tr><tr><td>290</td><td>null</td><td>Amy Alberts</td><td>9</td><td>2019</td><td>null</td><td>35464.35</td><td>null</td></tr><tr><td>282</td><td>null</td><td>Linda Mitchell</td><td>8</td><td>2017</td><td>null</td><td>270964.64999999997</td><td>null</td></tr><tr><td>282</td><td>null</td><td>Linda Mitchell</td><td>1</td><td>2018</td><td>null</td><td>5895.67</td><td>null</td></tr><tr><td>294</td><td>null</td><td>Syed Abbas</td><td>1</td><td>2020</td><td>null</td><td>3936.02</td><td>null</td></tr><tr><td>284</td><td>null</td><td>Garrett Vargas</td><td>5</td><td>2020</td><td>null</td><td>175108.91999999995</td><td>null</td></tr><tr><td>285</td><td>null</td><td>Tsvi Reiter</td><td>1</td><td>2019</td><td>null</td><td>123080.83</td><td>null</td></tr><tr><td>288</td><td>null</td><td>José Saraiva</td><td>10</td><td>2017</td><td>null</td><td>199539.91999999998</td><td>null</td></tr><tr><td>284</td><td>null</td><td>Garrett Vargas</td><td>9</td><td>2017</td><td>null</td><td>41701.490000000005</td><td>null</td></tr><tr><td>285</td><td>null</td><td>Tsvi Reiter</td><td>8</td><td>2017</td><td>null</td><td>302889.30000000005</td><td>null</td></tr><tr><td>296</td><td>null</td><td>Lynn Tsoflias</td><td>10</td><td>2019</td><td>null</td><td>55341.299999999996</td><td>null</td></tr><tr><td>282</td><td>null</td><td>Linda Mitchell</td><td>5</td><td>2018</td><td>null</td><td>401776.44000000006</td><td>null</td></tr><tr><td>283</td><td>null</td><td>Jillian Carson</td><td>7</td><td>2017</td><td>null</td><td>46695.58</td><td>null</td></tr><tr><td>285</td><td>null</td><td>Tsvi Reiter</td><td>12</td><td>2017</td><td>null</td><td>252005.99000000005</td><td>null</td></tr><tr><td>288</td><td>null</td><td>José Saraiva</td><td>8</td><td>2018</td><td>null</td><td>109302.24000000002</td><td>null</td></tr><tr><td>291</td><td>null</td><td>Jae Pak</td><td>10</td><td>2018</td><td>null</td><td>393949.42000000004</td><td>null</td></tr><tr><td>292</td><td>null</td><td>Ranjit Varkey Chudukatil</td><td>1</td><td>2020</td><td>null</td><td>40856.2</td><td>null</td></tr><tr><td>284</td><td>null</td><td>Garrett Vargas</td><td>2</td><td>2020</td><td>null</td><td>117195.18</td><td>null</td></tr><tr><td>281</td><td>null</td><td>Michael Blythe</td><td>12</td><td>2017</td><td>null</td><td>165336.79000000004</td><td>null</td></tr><tr><td>289</td><td>null</td><td>David Campbell</td><td>1</td><td>2019</td><td>null</td><td>111175.24000000002</td><td>null</td></tr><tr><td>289</td><td>null</td><td>David Campbell</td><td>5</td><td>2018</td><td>null</td><td>115901.69000000003</td><td>null</td></tr><tr><td>284</td><td>null</td><td>Garrett Vargas</td><td>9</td><td>2018</td><td>null</td><td>89599.44</td><td>null</td></tr><tr><td>283</td><td>null</td><td>Jillian Carson</td><td>1</td><td>2018</td><td>null</td><td>64192.81</td><td>null</td></tr><tr><td>272</td><td>null</td><td>Stephen Jiang</td><td>3</td><td>2020</td><td>null</td><td>1414.24</td><td>null</td></tr><tr><td>282</td><td>null</td><td>Linda Mitchell</td><td>10</td><td>2019</td><td>null</td><td>209396.53000000003</td><td>null</td></tr><tr><td>287</td><td>null</td><td>Shu Ito</td><td>5</td><td>2018</td><td>null</td><td>103508.44999999998</td><td>null</td></tr><tr><td>289</td><td>null</td><td>David Campbell</td><td>3</td><td>2018</td><td>null</td><td>63836.79</td><td>null</td></tr><tr><td>288</td><td>null</td><td>José Saraiva</td><td>5</td><td>2018</td><td>null</td><td>212021.48000000004</td><td>null</td></tr><tr><td>287</td><td>null</td><td>Shu Ito</td><td>11</td><td>2017</td><td>null</td><td>131414.16999999998</td><td>null</td></tr><tr><td>291</td><td>null</td><td>Jae Pak</td><td>3</td><td>2019</td><td>null</td><td>325541.2500000001</td><td>null</td></tr><tr><td>286</td><td>null</td><td>Pamela Ansman-Wolfe</td><td>11</td><td>2019</td><td>null</td><td>53947.91000000001</td><td>null</td></tr><tr><td>286</td><td>null</td><td>Pamela Ansman-Wolfe</td><td>10</td><td>2019</td><td>null</td><td>112059.06</td><td>null</td></tr><tr><td>284</td><td>null</td><td>Garrett Vargas</td><td>12</td><td>2019</td><td>null</td><td>202973.27000000002</td><td>null</td></tr><tr><td>293</td><td>null</td><td>Tete Mensa-Annan</td><td>11</td><td>2018</td><td>null</td><td>221792.54000000004</td><td>null</td></tr><tr><td>283</td><td>null</td><td>Jillian Carson</td><td>6</td><td>2018</td><td>null</td><td>270633.58999999997</td><td>null</td></tr><tr><td>293</td><td>null</td><td>Tete Mensa-Annan</td><td>7</td><td>2019</td><td>null</td><td>105317.08</td><td>null</td></tr><tr><td>293</td><td>null</td><td>Tete Mensa-Annan</td><td>5</td><td>2020</td><td>null</td><td>203820.54000000004</td><td>null</td></tr><tr><td>292</td><td>null</td><td>Ranjit Varkey Chudukatil</td><td>4</td><td>2020</td><td>null</td><td>54695.32000000001</td><td>null</td></tr><tr><td>285</td><td>null</td><td>Tsvi Reiter</td><td>4</td><td>2020</td><td>null</td><td>110957.71000000002</td><td>null</td></tr><tr><td>281</td><td>null</td><td>Michael Blythe</td><td>4</td><td>2020</td><td>null</td><td>196655.96</td><td>null</td></tr><tr><td>288</td><td>null</td><td>José Saraiva</td><td>4</td><td>2018</td><td>null</td><td>188997.03999999998</td><td>null</td></tr><tr><td>282</td><td>null</td><td>Linda Mitchell</td><td>3</td><td>2019</td><td>null</td><td>164573.0</td><td>null</td></tr><tr><td>289</td><td>null</td><td>David Campbell</td><td>8</td><td>2018</td><td>null</td><td>144741.03</td><td>null</td></tr><tr><td>291</td><td>null</td><td>Jae Pak</td><td>1</td><td>2019</td><td>null</td><td>257972.1399999999</td><td>null</td></tr><tr><td>288</td><td>null</td><td>José Saraiva</td><td>8</td><td>2017</td><td>null</td><td>160457.42</td><td>null</td></tr><tr><td>281</td><td>null</td><td>Michael Blythe</td><td>2</td><td>2019</td><td>null</td><td>193254.44999999995</td><td>null</td></tr><tr><td>287</td><td>null</td><td>Shu Ito</td><td>11</td><td>2018</td><td>null</td><td>215469.31999999998</td><td>null</td></tr><tr><td>289</td><td>null</td><td>David Campbell</td><td>12</td><td>2019</td><td>null</td><td>144602.60000000003</td><td>null</td></tr><tr><td>285</td><td>null</td><td>Tsvi Reiter</td><td>4</td><td>2019</td><td>null</td><td>172666.74000000002</td><td>null</td></tr><tr><td>281</td><td>null</td><td>Michael Blythe</td><td>3</td><td>2018</td><td>null</td><td>128000.9</td><td>null</td></tr><tr><td>286</td><td>null</td><td>Pamela Ansman-Wolfe</td><td>4</td><td>2018</td><td>null</td><td>26018.239999999998</td><td>null</td></tr><tr><td>288</td><td>null</td><td>José Saraiva</td><td>6</td><td>2018</td><td>null</td><td>124745.64999999994</td><td>null</td></tr><tr><td>281</td><td>null</td><td>Michael Blythe</td><td>6</td><td>2019</td><td>null</td><td>327715.99</td><td>null</td></tr><tr><td>290</td><td>null</td><td>Amy Alberts</td><td>7</td><td>2019</td><td>null</td><td>3711.9500000000003</td><td>null</td></tr><tr><td>287</td><td>null</td><td>Shu Ito</td><td>12</td><td>2017</td><td>null</td><td>280694.17000000004</td><td>null</td></tr><tr><td>283</td><td>null</td><td>Jillian Carson</td><td>2</td><td>2020</td><td>null</td><td>167579.07</td><td>null</td></tr><tr><td>272</td><td>null</td><td>Stephen Jiang</td><td>2</td><td>2018</td><td>null</td><td>61206.46</td><td>null</td></tr><tr><td>282</td><td>null</td><td>Linda Mitchell</td><td>1</td><td>2019</td><td>null</td><td>73709.34000000003</td><td>null</td></tr><tr><td>283</td><td>null</td><td>Jillian Carson</td><td>5</td><td>2019</td><td>null</td><td>383768.62000000034</td><td>null</td></tr><tr><td>281</td><td>null</td><td>Michael Blythe</td><td>1</td><td>2019</td><td>null</td><td>229456.62000000005</td><td>null</td></tr><tr><td>282</td><td>null</td><td>Linda Mitchell</td><td>12</td><td>2019</td><td>null</td><td>290252.53</td><td>null</td></tr><tr><td>281</td><td>null</td><td>Michael Blythe</td><td>11</td><td>2018</td><td>null</td><td>439157.9199999999</td><td>null</td></tr><tr><td>281</td><td>null</td><td>Michael Blythe</td><td>4</td><td>2019</td><td>null</td><td>315433.94999999995</td><td>null</td></tr><tr><td>284</td><td>null</td><td>Garrett Vargas</td><td>4</td><td>2019</td><td>null</td><td>8091.439999999999</td><td>null</td></tr><tr><td>281</td><td>null</td><td>Michael Blythe</td><td>5</td><td>2019</td><td>null</td><td>376632.0</td><td>null</td></tr><tr><td>294</td><td>null</td><td>Syed Abbas</td><td>2</td><td>2020</td><td>null</td><td>1376.99</td><td>null</td></tr><tr><td>295</td><td>null</td><td>Rachel Valdez</td><td>11</td><td>2019</td><td>null</td><td>184137.18</td><td>null</td></tr><tr><td>289</td><td>null</td><td>David Campbell</td><td>3</td><td>2019</td><td>null</td><td>4244.1</td><td>null</td></tr><tr><td>288</td><td>null</td><td>José Saraiva</td><td>5</td><td>2020</td><td>null</td><td>198679.46999999997</td><td>null</td></tr><tr><td>282</td><td>null</td><td>Linda Mitchell</td><td>11</td><td>2017</td><td>null</td><td>389310.70000000007</td><td>null</td></tr><tr><td>287</td><td>null</td><td>Shu Ito</td><td>5</td><td>2020</td><td>null</td><td>101628.18000000002</td><td>null</td></tr><tr><td>285</td><td>null</td><td>Tsvi Reiter</td><td>6</td><td>2018</td><td>null</td><td>134904.57999999996</td><td>null</td></tr><tr><td>286</td><td>null</td><td>Pamela Ansman-Wolfe</td><td>5</td><td>2018</td><td>null</td><td>252120.55000000002</td><td>null</td></tr><tr><td>287</td><td>null</td><td>Shu Ito</td><td>6</td><td>2018</td><td>null</td><td>154052.44999999998</td><td>null</td></tr><tr><td>287</td><td>null</td><td>Shu Ito</td><td>3</td><td>2020</td><td>null</td><td>189817.96000000002</td><td>null</td></tr><tr><td>293</td><td>null</td><td>Tete Mensa-Annan</td><td>12</td><td>2018</td><td>null</td><td>34287.66</td><td>null</td></tr><tr><td>272</td><td>null</td><td>Stephen Jiang</td><td>11</td><td>2018</td><td>null</td><td>2709.61</td><td>null</td></tr><tr><td>283</td><td>null</td><td>Jillian Carson</td><td>7</td><td>2019</td><td>null</td><td>264651.4199999999</td><td>null</td></tr><tr><td>291</td><td>null</td><td>Jae Pak</td><td>10</td><td>2019</td><td>null</td><td>389588.99000000005</td><td>null</td></tr><tr><td>284</td><td>null</td><td>Garrett Vargas</td><td>7</td><td>2018</td><td>null</td><td>6650.3099999999995</td><td>null</td></tr><tr><td>286</td><td>null</td><td>Pamela Ansman-Wolfe</td><td>7</td><td>2017</td><td>null</td><td>24432.56</td><td>null</td></tr><tr><td>293</td><td>null</td><td>Tete Mensa-Annan</td><td>1</td><td>2020</td><td>null</td><td>73740.64</td><td>null</td></tr><tr><td>281</td><td>null</td><td>Michael Blythe</td><td>1</td><td>2020</td><td>null</td><td>161919.59999999995</td><td>null</td></tr><tr><td>295</td><td>null</td><td>Rachel Valdez</td><td>3</td><td>2020</td><td>null</td><td>81784.56000000001</td><td>null</td></tr><tr><td>272</td><td>null</td><td>Stephen Jiang</td><td>5</td><td>2019</td><td>null</td><td>5255.26</td><td>null</td></tr><tr><td>292</td><td>null</td><td>Ranjit Varkey Chudukatil</td><td>10</td><td>2019</td><td>null</td><td>53905.170000000006</td><td>null</td></tr><tr><td>283</td><td>null</td><td>Jillian Carson</td><td>10</td><td>2018</td><td>null</td><td>333684.41000000015</td><td>null</td></tr><tr><td>283</td><td>null</td><td>Jillian Carson</td><td>3</td><td>2019</td><td>null</td><td>186234.16</td><td>null</td></tr><tr><td>285</td><td>null</td><td>Tsvi Reiter</td><td>11</td><td>2019</td><td>null</td><td>231810.11999999988</td><td>null</td></tr><tr><td>296</td><td>null</td><td>Lynn Tsoflias</td><td>11</td><td>2019</td><td>null</td><td>121363.98000000001</td><td>null</td></tr><tr><td>290</td><td>null</td><td>Amy Alberts</td><td>2</td><td>2020</td><td>null</td><td>42041.65</td><td>null</td></tr><tr><td>291</td><td>null</td><td>Jae Pak</td><td>8</td><td>2019</td><td>null</td><td>285712.49000000005</td><td>null</td></tr><tr><td>289</td><td>null</td><td>David Campbell</td><td>11</td><td>2017</td><td>null</td><td>111240.90999999999</td><td>null</td></tr><tr><td>272</td><td>null</td><td>Stephen Jiang</td><td>9</td><td>2019</td><td>null</td><td>88615.83000000002</td><td>null</td></tr><tr><td>282</td><td>null</td><td>Linda Mitchell</td><td>2</td><td>2020</td><td>null</td><td>499364.86</td><td>null</td></tr><tr><td>285</td><td>null</td><td>Tsvi Reiter</td><td>11</td><td>2017</td><td>null</td><td>445850.99000000005</td><td>null</td></tr><tr><td>272</td><td>null</td><td>Stephen Jiang</td><td>8</td><td>2017</td><td>null</td><td>20544.67</td><td>null</td></tr><tr><td>291</td><td>null</td><td>Jae Pak</td><td>2</td><td>2020</td><td>null</td><td>205601.3399999999</td><td>null</td></tr><tr><td>282</td><td>null</td><td>Linda Mitchell</td><td>4</td><td>2020</td><td>null</td><td>232334.96000000005</td><td>null</td></tr><tr><td>288</td><td>null</td><td>José Saraiva</td><td>9</td><td>2017</td><td>null</td><td>161899.25000000003</td><td>null</td></tr><tr><td>296</td><td>null</td><td>Lynn Tsoflias</td><td>2</td><td>2020</td><td>null</td><td>75124.6</td><td>null</td></tr><tr><td>289</td><td>null</td><td>David Campbell</td><td>7</td><td>2017</td><td>null</td><td>69472.92000000001</td><td>null</td></tr><tr><td>272</td><td>null</td><td>Stephen Jiang</td><td>4</td><td>2020</td><td>null</td><td>41336.649999999994</td><td>null</td></tr><tr><td>293</td><td>null</td><td>Tete Mensa-Annan</td><td>2</td><td>2019</td><td>null</td><td>175651.69000000006</td><td>null</td></tr><tr><td>282</td><td>null</td><td>Linda Mitchell</td><td>2</td><td>2018</td><td>null</td><td>380521.9100000001</td><td>null</td></tr><tr><td>289</td><td>null</td><td>David Campbell</td><td>9</td><td>2017</td><td>null</td><td>68755.67000000001</td><td>null</td></tr><tr><td>289</td><td>null</td><td>David Campbell</td><td>6</td><td>2018</td><td>null</td><td>26699.660000000003</td><td>null</td></tr><tr><td>289</td><td>null</td><td>David Campbell</td><td>6</td><td>2019</td><td>null</td><td>2802.5699999999997</td><td>null</td></tr><tr><td>284</td><td>null</td><td>Garrett Vargas</td><td>5</td><td>2018</td><td>null</td><td>172638.25</td><td>null</td></tr><tr><td>283</td><td>null</td><td>Jillian Carson</td><td>10</td><td>2017</td><td>null</td><td>93361.00999999998</td><td>null</td></tr><tr><td>289</td><td>null</td><td>David Campbell</td><td>7</td><td>2018</td><td>null</td><td>201474.95999999996</td><td>null</td></tr><tr><td>287</td><td>null</td><td>Shu Ito</td><td>2</td><td>2019</td><td>null</td><td>155368.18000000005</td><td>null</td></tr><tr><td>291</td><td>null</td><td>Jae Pak</td><td>12</td><td>2019</td><td>null</td><td>510042.9999999999</td><td>null</td></tr><tr><td>295</td><td>null</td><td>Rachel Valdez</td><td>2</td><td>2020</td><td>null</td><td>144162.97</td><td>null</td></tr><tr><td>283</td><td>null</td><td>Jillian Carson</td><td>2</td><td>2018</td><td>null</td><td>319638.7</td><td>null</td></tr><tr><td>288</td><td>null</td><td>José Saraiva</td><td>11</td><td>2019</td><td>null</td><td>170325.17</td><td>null</td></tr><tr><td>293</td><td>null</td><td>Tete Mensa-Annan</td><td>5</td><td>2019</td><td>null</td><td>219059.52000000002</td><td>null</td></tr><tr><td>290</td><td>null</td><td>Amy Alberts</td><td>10</td><td>2019</td><td>null</td><td>323.99</td><td>null</td></tr><tr><td>284</td><td>null</td><td>Garrett Vargas</td><td>12</td><td>2018</td><td>null</td><td>80795.55000000002</td><td>null</td></tr><tr><td>287</td><td>null</td><td>Shu Ito</td><td>10</td><td>2018</td><td>null</td><td>95051.09</td><td>null</td></tr><tr><td>289</td><td>null</td><td>David Campbell</td><td>10</td><td>2018</td><td>null</td><td>156877.85000000006</td><td>null</td></tr><tr><td>285</td><td>null</td><td>Tsvi Reiter</td><td>3</td><td>2019</td><td>null</td><td>126003.54999999999</td><td>null</td></tr><tr><td>287</td><td>null</td><td>Shu Ito</td><td>1</td><td>2019</td><td>null</td><td>94995.71000000002</td><td>null</td></tr><tr><td>292</td><td>null</td><td>Ranjit Varkey Chudukatil</td><td>3</td><td>2020</td><td>null</td><td>88587.35999999999</td><td>null</td></tr><tr><td>281</td><td>null</td><td>Michael Blythe</td><td>9</td><td>2017</td><td>null</td><td>132449.59000000003</td><td>null</td></tr><tr><td>293</td><td>null</td><td>Tete Mensa-Annan</td><td>1</td><td>2019</td><td>null</td><td>9911.169999999998</td><td>null</td></tr><tr><td>272</td><td>null</td><td>Stephen Jiang</td><td>7</td><td>2018</td><td>null</td><td>3575.7099999999996</td><td>null</td></tr><tr><td>286</td><td>null</td><td>Pamela Ansman-Wolfe</td><td>1</td><td>2018</td><td>null</td><td>41067.76</td><td>null</td></tr><tr><td>281</td><td>null</td><td>Michael Blythe</td><td>4</td><td>2018</td><td>null</td><td>143767.74</td><td>null</td></tr><tr><td>290</td><td>null</td><td>Amy Alberts</td><td>8</td><td>2018</td><td>null</td><td>73780.65000000002</td><td>null</td></tr><tr><td>286</td><td>null</td><td>Pamela Ansman-Wolfe</td><td>7</td><td>2018</td><td>null</td><td>99316.07</td><td>null</td></tr><tr><td>294</td><td>null</td><td>Syed Abbas</td><td>12</td><td>2019</td><td>null</td><td>31157.98999999999</td><td>null</td></tr><tr><td>289</td><td>null</td><td>David Campbell</td><td>10</td><td>2019</td><td>null</td><td>118132.80000000002</td><td>null</td></tr><tr><td>282</td><td>null</td><td>Linda Mitchell</td><td>1</td><td>2020</td><td>null</td><td>117710.71000000002</td><td>null</td></tr><tr><td>282</td><td>null</td><td>Linda Mitchell</td><td>4</td><td>2018</td><td>null</td><td>3762.24</td><td>null</td></tr><tr><td>291</td><td>null</td><td>Jae Pak</td><td>2</td><td>2019</td><td>null</td><td>233804.31000000006</td><td>null</td></tr><tr><td>286</td><td>null</td><td>Pamela Ansman-Wolfe</td><td>12</td><td>2018</td><td>null</td><td>47246.229999999996</td><td>null</td></tr><tr><td>295</td><td>null</td><td>Rachel Valdez</td><td>10</td><td>2019</td><td>null</td><td>193028.67999999996</td><td>null</td></tr><tr><td>296</td><td>null</td><td>Lynn Tsoflias</td><td>1</td><td>2020</td><td>null</td><td>59443.43999999999</td><td>null</td></tr><tr><td>292</td><td>null</td><td>Ranjit Varkey Chudukatil</td><td>2</td><td>2019</td><td>null</td><td>113541.73000000004</td><td>null</td></tr><tr><td>290</td><td>null</td><td>Amy Alberts</td><td>3</td><td>2020</td><td>null</td><td>53500.149999999994</td><td>null</td></tr><tr><td>281</td><td>null</td><td>Michael Blythe</td><td>10</td><td>2019</td><td>null</td><td>222459.17999999993</td><td>null</td></tr><tr><td>285</td><td>null</td><td>Tsvi Reiter</td><td>12</td><td>2018</td><td>null</td><td>150094.16</td><td>null</td></tr><tr><td>288</td><td>null</td><td>José Saraiva</td><td>9</td><td>2019</td><td>null</td><td>473834.8200000002</td><td>null</td></tr><tr><td>288</td><td>null</td><td>José Saraiva</td><td>1</td><td>2018</td><td>null</td><td>136171.37</td><td>null</td></tr><tr><td>281</td><td>null</td><td>Michael Blythe</td><td>11</td><td>2017</td><td>null</td><td>173840.68000000008</td><td>null</td></tr><tr><td>286</td><td>null</td><td>Pamela Ansman-Wolfe</td><td>8</td><td>2017</td><td>null</td><td>153058.63999999996</td><td>null</td></tr><tr><td>282</td><td>null</td><td>Linda Mitchell</td><td>12</td><td>2017</td><td>null</td><td>289492.89</td><td>null</td></tr><tr><td>293</td><td>null</td><td>Tete Mensa-Annan</td><td>10</td><td>2019</td><td>null</td><td>98281.23999999999</td><td>null</td></tr><tr><td>287</td><td>null</td><td>Shu Ito</td><td>3</td><td>2018</td><td>null</td><td>237589.98999999993</td><td>null</td></tr><tr><td>285</td><td>null</td><td>Tsvi Reiter</td><td>9</td><td>2018</td><td>null</td><td>174198.82</td><td>null</td></tr><tr><td>287</td><td>null</td><td>Shu Ito</td><td>11</td><td>2019</td><td>null</td><td>99986.78000000001</td><td>null</td></tr><tr><td>283</td><td>null</td><td>Jillian Carson</td><td>10</td><td>2019</td><td>null</td><td>243341.88</td><td>null</td></tr><tr><td>283</td><td>null</td><td>Jillian Carson</td><td>11</td><td>2017</td><td>null</td><td>396569.91000000015</td><td>null</td></tr><tr><td>289</td><td>null</td><td>David Campbell</td><td>1</td><td>2018</td><td>null</td><td>93417.40000000001</td><td>null</td></tr><tr><td>282</td><td>null</td><td>Linda Mitchell</td><td>7</td><td>2017</td><td>null</td><td>5475.95</td><td>null</td></tr><tr><td>284</td><td>null</td><td>Garrett Vargas</td><td>11</td><td>2018</td><td>null</td><td>224910.66000000003</td><td>null</td></tr><tr><td>296</td><td>null</td><td>Lynn Tsoflias</td><td>3</td><td>2020</td><td>null</td><td>200639.57000000012</td><td>null</td></tr><tr><td>288</td><td>null</td><td>José Saraiva</td><td>1</td><td>2020</td><td>null</td><td>80604.59000000001</td><td>null</td></tr><tr><td>283</td><td>null</td><td>Jillian Carson</td><td>4</td><td>2018</td><td>null</td><td>110803.11</td><td>null</td></tr><tr><td>286</td><td>null</td><td>Pamela Ansman-Wolfe</td><td>4</td><td>2020</td><td>null</td><td>156339.38</td><td>null</td></tr><tr><td>292</td><td>null</td><td>Ranjit Varkey Chudukatil</td><td>12</td><td>2018</td><td>null</td><td>87995.01000000001</td><td>null</td></tr><tr><td>283</td><td>null</td><td>Jillian Carson</td><td>9</td><td>2019</td><td>null</td><td>422251.2099999999</td><td>null</td></tr><tr><td>292</td><td>null</td><td>Ranjit Varkey Chudukatil</td><td>1</td><td>2019</td><td>null</td><td>34522.09</td><td>null</td></tr><tr><td>285</td><td>null</td><td>Tsvi Reiter</td><td>5</td><td>2020</td><td>null</td><td>262262.45999999996</td><td>null</td></tr><tr><td>291</td><td>null</td><td>Jae Pak</td><td>4</td><td>2019</td><td>null</td><td>431455.25000000006</td><td>null</td></tr><tr><td>291</td><td>null</td><td>Jae Pak</td><td>9</td><td>2018</td><td>null</td><td>474699.7799999998</td><td>null</td></tr><tr><td>281</td><td>null</td><td>Michael Blythe</td><td>6</td><td>2018</td><td>null</td><td>134935.4</td><td>null</td></tr><tr><td>285</td><td>null</td><td>Tsvi Reiter</td><td>10</td><td>2017</td><td>null</td><td>139223.75</td><td>null</td></tr><tr><td>284</td><td>null</td><td>Garrett Vargas</td><td>1</td><td>2019</td><td>null</td><td>2852.51</td><td>null</td></tr><tr><td>284</td><td>null</td><td>Garrett Vargas</td><td>10</td><td>2019</td><td>null</td><td>13416.75</td><td>null</td></tr><tr><td>296</td><td>null</td><td>Lynn Tsoflias</td><td>12</td><td>2019</td><td>null</td><td>185889.7400000001</td><td>null</td></tr><tr><td>288</td><td>null</td><td>José Saraiva</td><td>11</td><td>2018</td><td>null</td><td>136752.50999999998</td><td>null</td></tr><tr><td>289</td><td>null</td><td>David Campbell</td><td>9</td><td>2018</td><td>null</td><td>11293.72</td><td>null</td></tr><tr><td>282</td><td>null</td><td>Linda Mitchell</td><td>4</td><td>2019</td><td>null</td><td>88516.99</td><td>null</td></tr><tr><td>291</td><td>null</td><td>Jae Pak</td><td>6</td><td>2019</td><td>null</td><td>362867.0800000001</td><td>null</td></tr><tr><td>292</td><td>null</td><td>Ranjit Varkey Chudukatil</td><td>10</td><td>2018</td><td>null</td><td>55939.64</td><td>null</td></tr><tr><td>291</td><td>null</td><td>Jae Pak</td><td>7</td><td>2018</td><td>null</td><td>635731.8</td><td>null</td></tr><tr><td>293</td><td>null</td><td>Tete Mensa-Annan</td><td>4</td><td>2019</td><td>null</td><td>9485.09</td><td>null</td></tr><tr><td>282</td><td>null</td><td>Linda Mitchell</td><td>9</td><td>2018</td><td>null</td><td>411475.14000000013</td><td>null</td></tr><tr><td>281</td><td>null</td><td>Michael Blythe</td><td>9</td><td>2019</td><td>null</td><td>534258.97</td><td>null</td></tr><tr><td>293</td><td>null</td><td>Tete Mensa-Annan</td><td>8</td><td>2019</td><td>null</td><td>127794.11000000004</td><td>null</td></tr><tr><td>290</td><td>null</td><td>Amy Alberts</td><td>6</td><td>2019</td><td>null</td><td>51365.08</td><td>null</td></tr><tr><td>286</td><td>null</td><td>Pamela Ansman-Wolfe</td><td>1</td><td>2020</td><td>null</td><td>112971.03</td><td>null</td></tr><tr><td>291</td><td>null</td><td>Jae Pak</td><td>7</td><td>2019</td><td>null</td><td>488041.22999999986</td><td>null</td></tr><tr><td>283</td><td>null</td><td>Jillian Carson</td><td>9</td><td>2017</td><td>null</td><td>141197.28000000003</td><td>null</td></tr><tr><td>286</td><td>null</td><td>Pamela Ansman-Wolfe</td><td>11</td><td>2017</td><td>null</td><td>288668.8100000001</td><td>null</td></tr><tr><td>284</td><td>null</td><td>Garrett Vargas</td><td>8</td><td>2017</td><td>null</td><td>156636.31999999998</td><td>null</td></tr><tr><td>285</td><td>null</td><td>Tsvi Reiter</td><td>3</td><td>2020</td><td>null</td><td>181959.25</td><td>null</td></tr><tr><td>288</td><td>null</td><td>José Saraiva</td><td>2</td><td>2018</td><td>null</td><td>163392.55000000002</td><td>null</td></tr><tr><td>296</td><td>null</td><td>Lynn Tsoflias</td><td>5</td><td>2020</td><td>null</td><td>98998.03</td><td>null</td></tr><tr><td>282</td><td>null</td><td>Linda Mitchell</td><td>9</td><td>2017</td><td>null</td><td>182616.16</td><td>null</td></tr><tr><td>285</td><td>null</td><td>Tsvi Reiter</td><td>9</td><td>2019</td><td>null</td><td>218382.2</td><td>null</td></tr><tr><td>289</td><td>null</td><td>David Campbell</td><td>7</td><td>2019</td><td>null</td><td>172652.75</td><td>null</td></tr><tr><td>283</td><td>null</td><td>Jillian Carson</td><td>5</td><td>2020</td><td>null</td><td>210719.0899999999</td><td>null</td></tr><tr><td>286</td><td>null</td><td>Pamela Ansman-Wolfe</td><td>3</td><td>2020</td><td>null</td><td>142219.81000000003</td><td>null</td></tr><tr><td>283</td><td>null</td><td>Jillian Carson</td><td>3</td><td>2018</td><td>null</td><td>267190.03000000014</td><td>null</td></tr><tr><td>289</td><td>null</td><td>David Campbell</td><td>11</td><td>2019</td><td>null</td><td>106379.79000000001</td><td>null</td></tr><tr><td>272</td><td>null</td><td>Stephen Jiang</td><td>1</td><td>2020</td><td>null</td><td>71119.51</td><td>null</td></tr><tr><td>288</td><td>null</td><td>José Saraiva</td><td>12</td><td>2017</td><td>null</td><td>225890.35999999996</td><td>null</td></tr><tr><td>283</td><td>null</td><td>Jillian Carson</td><td>12</td><td>2018</td><td>null</td><td>351327.7200000001</td><td>null</td></tr><tr><td>284</td><td>null</td><td>Garrett Vargas</td><td>7</td><td>2017</td><td>null</td><td>9109.2</td><td>null</td></tr><tr><td>283</td><td>null</td><td>Jillian Carson</td><td>8</td><td>2019</td><td>null</td><td>347038.97999999986</td><td>null</td></tr><tr><td>287</td><td>null</td><td>Shu Ito</td><td>4</td><td>2018</td><td>null</td><td>91488.26999999996</td><td>null</td></tr><tr><td>283</td><td>null</td><td>Jillian Carson</td><td>8</td><td>2017</td><td>null</td><td>267762.44</td><td>null</td></tr><tr><td>284</td><td>null</td><td>Garrett Vargas</td><td>1</td><td>2018</td><td>null</td><td>27721.909999999996</td><td>null</td></tr><tr><td>281</td><td>null</td><td>Michael Blythe</td><td>10</td><td>2017</td><td>null</td><td>107815.83</td><td>null</td></tr><tr><td>291</td><td>null</td><td>Jae Pak</td><td>9</td><td>2019</td><td>null</td><td>431559.6899999999</td><td>null</td></tr><tr><td>283</td><td>null</td><td>Jillian Carson</td><td>1</td><td>2019</td><td>null</td><td>272262.18999999994</td><td>null</td></tr><tr><td>282</td><td>null</td><td>Linda Mitchell</td><td>9</td><td>2019</td><td>null</td><td>343136.42000000004</td><td>null</td></tr><tr><td>286</td><td>null</td><td>Pamela Ansman-Wolfe</td><td>3</td><td>2018</td><td>null</td><td>50762.70999999999</td><td>null</td></tr><tr><td>291</td><td>null</td><td>Jae Pak</td><td>5</td><td>2020</td><td>null</td><td>221286.08999999997</td><td>null</td></tr><tr><td>281</td><td>null</td><td>Michael Blythe</td><td>3</td><td>2020</td><td>null</td><td>248157.96999999994</td><td>null</td></tr><tr><td>287</td><td>null</td><td>Shu Ito</td><td>12</td><td>2019</td><td>null</td><td>230458.2400000001</td><td>null</td></tr><tr><td>287</td><td>null</td><td>Shu Ito</td><td>7</td><td>2017</td><td>null</td><td>59708.38999999999</td><td>null</td></tr><tr><td>284</td><td>null</td><td>Garrett Vargas</td><td>4</td><td>2018</td><td>null</td><td>39176.03999999999</td><td>null</td></tr><tr><td>282</td><td>null</td><td>Linda Mitchell</td><td>11</td><td>2018</td><td>null</td><td>578474.7200000002</td><td>null</td></tr><tr><td>272</td><td>null</td><td>Stephen Jiang</td><td>8</td><td>2018</td><td>null</td><td>55678.330000000016</td><td>null</td></tr><tr><td>295</td><td>null</td><td>Rachel Valdez</td><td>7</td><td>2019</td><td>null</td><td>187479.84</td><td>null</td></tr><tr><td>289</td><td>null</td><td>David Campbell</td><td>4</td><td>2020</td><td>null</td><td>128997.75999999998</td><td>null</td></tr><tr><td>285</td><td>null</td><td>Tsvi Reiter</td><td>7</td><td>2017</td><td>null</td><td>104419.22</td><td>null</td></tr><tr><td>281</td><td>null</td><td>Michael Blythe</td><td>8</td><td>2019</td><td>null</td><td>453349.1899999998</td><td>null</td></tr><tr><td>284</td><td>null</td><td>Garrett Vargas</td><td>8</td><td>2018</td><td>null</td><td>329324.45999999996</td><td>null</td></tr><tr><td>290</td><td>null</td><td>Amy Alberts</td><td>12</td><td>2019</td><td>null</td><td>220927.60000000003</td><td>null</td></tr><tr><td>294</td><td>null</td><td>Syed Abbas</td><td>5</td><td>2020</td><td>null</td><td>17070.090000000004</td><td>null</td></tr><tr><td>285</td><td>null</td><td>Tsvi Reiter</td><td>4</td><td>2018</td><td>null</td><td>153853.11</td><td>null</td></tr><tr><td>272</td><td>null</td><td>Stephen Jiang</td><td>5</td><td>2020</td><td>null</td><td>98478.59999999999</td><td>null</td></tr><tr><td>287</td><td>null</td><td>Shu Ito</td><td>2</td><td>2018</td><td>null</td><td>78892.28999999998</td><td>null</td></tr><tr><td>286</td><td>null</td><td>Pamela Ansman-Wolfe</td><td>12</td><td>2017</td><td>null</td><td>69681.68000000001</td><td>null</td></tr><tr><td>290</td><td>null</td><td>Amy Alberts</td><td>1</td><td>2020</td><td>null</td><td>323.99</td><td>null</td></tr><tr><td>282</td><td>null</td><td>Linda Mitchell</td><td>11</td><td>2019</td><td>null</td><td>568603.1699999997</td><td>null</td></tr><tr><td>282</td><td>null</td><td>Linda Mitchell</td><td>8</td><td>2018</td><td>null</td><td>650254.3800000006</td><td>null</td></tr><tr><td>295</td><td>null</td><td>Rachel Valdez</td><td>8</td><td>2019</td><td>null</td><td>192177.58000000002</td><td>null</td></tr><tr><td>288</td><td>null</td><td>José Saraiva</td><td>12</td><td>2018</td><td>null</td><td>166015.7</td><td>null</td></tr><tr><td>288</td><td>null</td><td>José Saraiva</td><td>6</td><td>2019</td><td>null</td><td>79195.88</td><td>null</td></tr><tr><td>286</td><td>null</td><td>Pamela Ansman-Wolfe</td><td>3</td><td>2019</td><td>null</td><td>34427.25</td><td>null</td></tr><tr><td>290</td><td>null</td><td>Amy Alberts</td><td>3</td><td>2019</td><td>null</td><td>1308.94</td><td>null</td></tr><tr><td>272</td><td>null</td><td>Stephen Jiang</td><td>9</td><td>2018</td><td>null</td><td>523.78</td><td>null</td></tr><tr><td>272</td><td>null</td><td>Stephen Jiang</td><td>9</td><td>2017</td><td>null</td><td>2039.99</td><td>null</td></tr><tr><td>290</td><td>null</td><td>Amy Alberts</td><td>4</td><td>2020</td><td>null</td><td>1784.5</td><td>null</td></tr></tbody></table></div>"
      ]
     },
     "metadata": {
      "application/vnd.databricks.v1+output": {
       "addedWidgets": {},
       "aggData": [],
       "aggError": "",
       "aggOverflow": false,
       "aggSchema": [],
       "aggSeriesLimitReached": false,
       "aggType": "",
       "arguments": {},
       "columnCustomDisplayInfos": {},
       "data": [
        [
         292,
         null,
         "Ranjit Varkey Chudukatil",
         8,
         2018,
         null,
         265288.35,
         null
        ],
        [
         289,
         null,
         "David Campbell",
         12,
         2018,
         null,
         10236.31,
         null
        ],
        [
         281,
         null,
         "Michael Blythe",
         7,
         2019,
         null,
         249177.96,
         null
        ],
        [
         288,
         null,
         "José Saraiva",
         7,
         2019,
         null,
         155252.69000000003,
         null
        ],
        [
         285,
         null,
         "Tsvi Reiter",
         3,
         2018,
         null,
         167507.91999999998,
         null
        ],
        [
         288,
         null,
         "José Saraiva",
         10,
         2018,
         null,
         63443.87000000002,
         null
        ],
        [
         288,
         null,
         "José Saraiva",
         3,
         2019,
         null,
         115840.99,
         null
        ],
        [
         296,
         null,
         "Lynn Tsoflias",
         8,
         2019,
         null,
         145995.97999999998,
         null
        ],
        [
         293,
         null,
         "Tete Mensa-Annan",
         2,
         2020,
         null,
         162756.22000000003,
         null
        ],
        [
         286,
         null,
         "Pamela Ansman-Wolfe",
         9,
         2018,
         null,
         97559.83000000003,
         null
        ],
        [
         289,
         null,
         "David Campbell",
         1,
         2020,
         null,
         100843.15,
         null
        ],
        [
         288,
         null,
         "José Saraiva",
         8,
         2019,
         null,
         201741.88999999998,
         null
        ],
        [
         281,
         null,
         "Michael Blythe",
         12,
         2018,
         null,
         223032.22000000006,
         null
        ],
        [
         272,
         null,
         "Stephen Jiang",
         11,
         2019,
         null,
         90810.09999999998,
         null
        ],
        [
         272,
         null,
         "Stephen Jiang",
         10,
         2019,
         null,
         1946.01,
         null
        ],
        [
         285,
         null,
         "Tsvi Reiter",
         12,
         2019,
         null,
         185055.12000000005,
         null
        ],
        [
         295,
         null,
         "Rachel Valdez",
         5,
         2020,
         null,
         194027.03000000006,
         null
        ],
        [
         285,
         null,
         "Tsvi Reiter",
         6,
         2019,
         null,
         148992.63,
         null
        ],
        [
         286,
         null,
         "Pamela Ansman-Wolfe",
         4,
         2019,
         null,
         49349.55000000001,
         null
        ],
        [
         282,
         null,
         "Linda Mitchell",
         3,
         2020,
         null,
         237673.21000000008,
         null
        ],
        [
         284,
         null,
         "Garrett Vargas",
         3,
         2020,
         null,
         111109.40000000002,
         null
        ],
        [
         291,
         null,
         "Jae Pak",
         5,
         2019,
         null,
         253207.28999999998,
         null
        ],
        [
         285,
         null,
         "Tsvi Reiter",
         7,
         2019,
         null,
         171310.47000000003,
         null
        ],
        [
         293,
         null,
         "Tete Mensa-Annan",
         6,
         2019,
         null,
         35479.44,
         null
        ],
        [
         291,
         null,
         "Jae Pak",
         8,
         2018,
         null,
         332029.38999999996,
         null
        ],
        [
         292,
         null,
         "Ranjit Varkey Chudukatil",
         4,
         2019,
         null,
         56947.23,
         null
        ],
        [
         282,
         null,
         "Linda Mitchell",
         5,
         2019,
         null,
         615217.05,
         null
        ],
        [
         289,
         null,
         "David Campbell",
         5,
         2019,
         null,
         106781.25,
         null
        ],
        [
         281,
         null,
         "Michael Blythe",
         10,
         2018,
         null,
         319343.43999999994,
         null
        ],
        [
         286,
         null,
         "Pamela Ansman-Wolfe",
         10,
         2017,
         null,
         57740.93,
         null
        ],
        [
         294,
         null,
         "Syed Abbas",
         9,
         2019,
         null,
         117706.35999999999,
         null
        ],
        [
         292,
         null,
         "Ranjit Varkey Chudukatil",
         5,
         2019,
         null,
         188371.72,
         null
        ],
        [
         282,
         null,
         "Linda Mitchell",
         8,
         2019,
         null,
         662737.3199999998,
         null
        ],
        [
         286,
         null,
         "Pamela Ansman-Wolfe",
         5,
         2020,
         null,
         57072.70000000001,
         null
        ],
        [
         281,
         null,
         "Michael Blythe",
         8,
         2018,
         null,
         443964.3200000002,
         null
        ],
        [
         286,
         null,
         "Pamela Ansman-Wolfe",
         10,
         2018,
         null,
         82909.22000000002,
         null
        ],
        [
         290,
         null,
         "Amy Alberts",
         11,
         2018,
         null,
         12648.09,
         null
        ],
        [
         272,
         null,
         "Stephen Jiang",
         10,
         2018,
         null,
         56210.83,
         null
        ],
        [
         281,
         null,
         "Michael Blythe",
         7,
         2018,
         null,
         421440.9900000001,
         null
        ],
        [
         287,
         null,
         "Shu Ito",
         1,
         2020,
         null,
         212602.7200000001,
         null
        ],
        [
         289,
         null,
         "David Campbell",
         12,
         2017,
         null,
         85139.26000000001,
         null
        ],
        [
         295,
         null,
         "Rachel Valdez",
         4,
         2020,
         null,
         162217.62999999995,
         null
        ],
        [
         284,
         null,
         "Garrett Vargas",
         10,
         2018,
         null,
         3025.72,
         null
        ],
        [
         292,
         null,
         "Ranjit Varkey Chudukatil",
         5,
         2020,
         null,
         608336.7300000002,
         null
        ],
        [
         285,
         null,
         "Tsvi Reiter",
         9,
         2017,
         null,
         138208.88,
         null
        ],
        [
         296,
         null,
         "Lynn Tsoflias",
         4,
         2020,
         null,
         58814.28999999999,
         null
        ],
        [
         272,
         null,
         "Stephen Jiang",
         4,
         2018,
         null,
         33406.630000000005,
         null
        ],
        [
         283,
         null,
         "Jillian Carson",
         3,
         2020,
         null,
         278365.71,
         null
        ],
        [
         286,
         null,
         "Pamela Ansman-Wolfe",
         8,
         2018,
         null,
         232870.14,
         null
        ],
        [
         293,
         null,
         "Tete Mensa-Annan",
         4,
         2020,
         null,
         102930.67000000001,
         null
        ],
        [
         282,
         null,
         "Linda Mitchell",
         12,
         2018,
         null,
         272719.4099999999,
         null
        ],
        [
         289,
         null,
         "David Campbell",
         4,
         2019,
         null,
         155484.74000000002,
         null
        ],
        [
         284,
         null,
         "Garrett Vargas",
         9,
         2019,
         null,
         182189.21,
         null
        ],
        [
         288,
         null,
         "José Saraiva",
         7,
         2017,
         null,
         106251.69,
         null
        ],
        [
         282,
         null,
         "Linda Mitchell",
         7,
         2019,
         null,
         321478.99,
         null
        ],
        [
         287,
         null,
         "Shu Ito",
         7,
         2018,
         null,
         170371.19,
         null
        ],
        [
         287,
         null,
         "Shu Ito",
         2,
         2020,
         null,
         85873.5,
         null
        ],
        [
         272,
         null,
         "Stephen Jiang",
         2,
         2019,
         null,
         97301.66,
         null
        ],
        [
         292,
         null,
         "Ranjit Varkey Chudukatil",
         8,
         2019,
         null,
         711243.3099999998,
         null
        ],
        [
         283,
         null,
         "Jillian Carson",
         4,
         2019,
         null,
         401224.64000000013,
         null
        ],
        [
         283,
         null,
         "Jillian Carson",
         9,
         2018,
         null,
         457822.64000000013,
         null
        ],
        [
         289,
         null,
         "David Campbell",
         2,
         2020,
         null,
         83625.96999999999,
         null
        ],
        [
         285,
         null,
         "Tsvi Reiter",
         1,
         2018,
         null,
         140581.53,
         null
        ],
        [
         293,
         null,
         "Tete Mensa-Annan",
         3,
         2019,
         null,
         30335.5,
         null
        ],
        [
         282,
         null,
         "Linda Mitchell",
         6,
         2018,
         null,
         146343.84999999995,
         null
        ],
        [
         286,
         null,
         "Pamela Ansman-Wolfe",
         1,
         2019,
         null,
         71863.61,
         null
        ],
        [
         284,
         null,
         "Garrett Vargas",
         8,
         2019,
         null,
         273312.43,
         null
        ],
        [
         295,
         null,
         "Rachel Valdez",
         1,
         2020,
         null,
         112348.03000000003,
         null
        ],
        [
         292,
         null,
         "Ranjit Varkey Chudukatil",
         9,
         2019,
         null,
         199504.56,
         null
        ],
        [
         293,
         null,
         "Tete Mensa-Annan",
         9,
         2019,
         null,
         173670.43,
         null
        ],
        [
         284,
         null,
         "Garrett Vargas",
         7,
         2019,
         null,
         17713.04,
         null
        ],
        [
         282,
         null,
         "Linda Mitchell",
         3,
         2018,
         null,
         205046.33000000005,
         null
        ],
        [
         272,
         null,
         "Stephen Jiang",
         8,
         2019,
         null,
         130269.21999999999,
         null
        ],
        [
         283,
         null,
         "Jillian Carson",
         1,
         2020,
         null,
         165474.58000000002,
         null
        ],
        [
         281,
         null,
         "Michael Blythe",
         8,
         2017,
         null,
         108543.01000000001,
         null
        ],
        [
         285,
         null,
         "Tsvi Reiter",
         2,
         2019,
         null,
         212956.07,
         null
        ],
        [
         287,
         null,
         "Shu Ito",
         4,
         2019,
         null,
         87939.12,
         null
        ],
        [
         284,
         null,
         "Garrett Vargas",
         11,
         2017,
         null,
         197482.15000000002,
         null
        ],
        [
         283,
         null,
         "Jillian Carson",
         7,
         2018,
         null,
         402575.42999999993,
         null
        ],
        [
         292,
         null,
         "Ranjit Varkey Chudukatil",
         9,
         2018,
         null,
         164074.90999999997,
         null
        ],
        [
         292,
         null,
         "Ranjit Varkey Chudukatil",
         7,
         2018,
         null,
         98193.10999999996,
         null
        ],
        [
         281,
         null,
         "Michael Blythe",
         3,
         2019,
         null,
         260647.45999999985,
         null
        ],
        [
         288,
         null,
         "José Saraiva",
         11,
         2017,
         null,
         185035.03000000003,
         null
        ],
        [
         287,
         null,
         "Shu Ito",
         8,
         2019,
         null,
         131520.91,
         null
        ],
        [
         286,
         null,
         "Pamela Ansman-Wolfe",
         7,
         2019,
         null,
         115105.39999999997,
         null
        ],
        [
         292,
         null,
         "Ranjit Varkey Chudukatil",
         11,
         2019,
         null,
         617173.0600000002,
         null
        ],
        [
         289,
         null,
         "David Campbell",
         5,
         2020,
         null,
         110995.96000000002,
         null
        ],
        [
         291,
         null,
         "Jae Pak",
         11,
         2018,
         null,
         283397.57000000007,
         null
        ],
        [
         282,
         null,
         "Linda Mitchell",
         6,
         2019,
         null,
         264240.3100000001,
         null
        ],
        [
         290,
         null,
         "Amy Alberts",
         11,
         2019,
         null,
         54515.71000000001,
         null
        ],
        [
         285,
         null,
         "Tsvi Reiter",
         7,
         2018,
         null,
         177941.5,
         null
        ],
        [
         281,
         null,
         "Michael Blythe",
         2,
         2018,
         null,
         155830.99,
         null
        ],
        [
         284,
         null,
         "Garrett Vargas",
         2,
         2018,
         null,
         113239.59,
         null
        ],
        [
         292,
         null,
         "Ranjit Varkey Chudukatil",
         11,
         2018,
         null,
         180623.74,
         null
        ],
        [
         285,
         null,
         "Tsvi Reiter",
         10,
         2018,
         null,
         144638.36,
         null
        ],
        [
         287,
         null,
         "Shu Ito",
         5,
         2019,
         null,
         194265.36999999994,
         null
        ],
        [
         284,
         null,
         "Garrett Vargas",
         10,
         2017,
         null,
         35469.329999999994,
         null
        ],
        [
         290,
         null,
         "Amy Alberts",
         5,
         2020,
         null,
         672.29,
         null
        ],
        [
         295,
         null,
         "Rachel Valdez",
         12,
         2019,
         null,
         97990.79000000001,
         null
        ],
        [
         282,
         null,
         "Linda Mitchell",
         7,
         2018,
         null,
         112241.15,
         null
        ],
        [
         282,
         null,
         "Linda Mitchell",
         2,
         2019,
         null,
         532880.3900000002,
         null
        ],
        [
         290,
         null,
         "Amy Alberts",
         2,
         2019,
         null,
         29648.980000000003,
         null
        ],
        [
         272,
         null,
         "Stephen Jiang",
         3,
         2018,
         null,
         18307.71,
         null
        ],
        [
         296,
         null,
         "Lynn Tsoflias",
         9,
         2019,
         null,
         160976.15,
         null
        ],
        [
         287,
         null,
         "Shu Ito",
         6,
         2019,
         null,
         238160.20000000004,
         null
        ],
        [
         285,
         null,
         "Tsvi Reiter",
         5,
         2018,
         null,
         375132.88,
         null
        ],
        [
         281,
         null,
         "Michael Blythe",
         1,
         2018,
         null,
         124082.55999999997,
         null
        ],
        [
         287,
         null,
         "Shu Ito",
         7,
         2019,
         null,
         367168.93000000005,
         null
        ],
        [
         284,
         null,
         "Garrett Vargas",
         2,
         2019,
         null,
         120320.53000000003,
         null
        ],
        [
         289,
         null,
         "David Campbell",
         3,
         2020,
         null,
         109955.57000000004,
         null
        ],
        [
         283,
         null,
         "Jillian Carson",
         11,
         2019,
         null,
         225681.26999999993,
         null
        ],
        [
         285,
         null,
         "Tsvi Reiter",
         8,
         2019,
         null,
         279350.52999999997,
         null
        ],
        [
         285,
         null,
         "Tsvi Reiter",
         2,
         2020,
         null,
         188539.7,
         null
        ],
        [
         288,
         null,
         "José Saraiva",
         12,
         2019,
         null,
         275986.85000000003,
         null
        ],
        [
         293,
         null,
         "Tete Mensa-Annan",
         12,
         2019,
         null,
         127382.26000000004,
         null
        ],
        [
         283,
         null,
         "Jillian Carson",
         5,
         2018,
         null,
         464190.61,
         null
        ],
        [
         288,
         null,
         "José Saraiva",
         4,
         2019,
         null,
         47236.41,
         null
        ],
        [
         283,
         null,
         "Jillian Carson",
         8,
         2018,
         null,
         406918.9599999999,
         null
        ],
        [
         293,
         null,
         "Tete Mensa-Annan",
         3,
         2020,
         null,
         151149.05000000002,
         null
        ],
        [
         272,
         null,
         "Stephen Jiang",
         4,
         2019,
         null,
         43633.78,
         null
        ],
        [
         272,
         null,
         "Stephen Jiang",
         6,
         2019,
         null,
         1466.01,
         null
        ],
        [
         290,
         null,
         "Amy Alberts",
         5,
         2019,
         null,
         43180.87,
         null
        ],
        [
         272,
         null,
         "Stephen Jiang",
         6,
         2018,
         null,
         60980.78,
         null
        ],
        [
         289,
         null,
         "David Campbell",
         2,
         2019,
         null,
         94079.9,
         null
        ],
        [
         287,
         null,
         "Shu Ito",
         9,
         2019,
         null,
         269700.3399999999,
         null
        ],
        [
         287,
         null,
         "Shu Ito",
         4,
         2020,
         null,
         267169.33,
         null
        ],
        [
         281,
         null,
         "Michael Blythe",
         5,
         2020,
         null,
         244075.18000000002,
         null
        ],
        [
         288,
         null,
         "José Saraiva",
         5,
         2019,
         null,
         69047.66,
         null
        ],
        [
         292,
         null,
         "Ranjit Varkey Chudukatil",
         7,
         2019,
         null,
         55775.84,
         null
        ],
        [
         284,
         null,
         "Garrett Vargas",
         6,
         2018,
         null,
         24978.83,
         null
        ],
        [
         294,
         null,
         "Syed Abbas",
         11,
         2019,
         null,
         2860.88,
         null
        ],
        [
         283,
         null,
         "Jillian Carson",
         12,
         2019,
         null,
         326183.32000000007,
         null
        ],
        [
         287,
         null,
         "Shu Ito",
         10,
         2019,
         null,
         312258.14,
         null
        ],
        [
         284,
         null,
         "Garrett Vargas",
         1,
         2020,
         null,
         17271.6,
         null
        ],
        [
         291,
         null,
         "Jae Pak",
         4,
         2020,
         null,
         370602.30000000005,
         null
        ],
        [
         283,
         null,
         "Jillian Carson",
         6,
         2019,
         null,
         277959.85,
         null
        ],
        [
         284,
         null,
         "Garrett Vargas",
         5,
         2019,
         null,
         215202.18000000002,
         null
        ],
        [
         286,
         null,
         "Pamela Ansman-Wolfe",
         12,
         2019,
         null,
         179036.11000000004,
         null
        ],
        [
         287,
         null,
         "Shu Ito",
         8,
         2018,
         null,
         251234.14,
         null
        ],
        [
         285,
         null,
         "Tsvi Reiter",
         10,
         2019,
         null,
         153459.86000000004,
         null
        ],
        [
         289,
         null,
         "David Campbell",
         4,
         2018,
         null,
         91738.55999999998,
         null
        ],
        [
         291,
         null,
         "Jae Pak",
         3,
         2020,
         null,
         353918.0,
         null
        ],
        [
         288,
         null,
         "José Saraiva",
         2,
         2020,
         null,
         110760.36000000002,
         null
        ],
        [
         296,
         null,
         "Lynn Tsoflias",
         7,
         2019,
         null,
         54329.44,
         null
        ],
        [
         289,
         null,
         "David Campbell",
         10,
         2017,
         null,
         106853.78,
         null
        ],
        [
         288,
         null,
         "José Saraiva",
         3,
         2018,
         null,
         231555.85999999996,
         null
        ],
        [
         288,
         null,
         "José Saraiva",
         10,
         2019,
         null,
         116260.85,
         null
        ],
        [
         284,
         null,
         "Garrett Vargas",
         12,
         2017,
         null,
         32773.73999999999,
         null
        ],
        [
         288,
         null,
         "José Saraiva",
         1,
         2019,
         null,
         36790.56000000001,
         null
        ],
        [
         287,
         null,
         "Shu Ito",
         9,
         2018,
         null,
         416804.0500000001,
         null
        ],
        [
         284,
         null,
         "Garrett Vargas",
         3,
         2018,
         null,
         85482.03,
         null
        ],
        [
         292,
         null,
         "Ranjit Varkey Chudukatil",
         6,
         2019,
         null,
         87055.78000000001,
         null
        ],
        [
         284,
         null,
         "Garrett Vargas",
         3,
         2019,
         null,
         68726.79,
         null
        ],
        [
         291,
         null,
         "Jae Pak",
         12,
         2018,
         null,
         409224.27,
         null
        ],
        [
         282,
         null,
         "Linda Mitchell",
         5,
         2020,
         null,
         525376.1000000001,
         null
        ],
        [
         291,
         null,
         "Jae Pak",
         11,
         2019,
         null,
         230123.87000000002,
         null
        ],
        [
         288,
         null,
         "José Saraiva",
         4,
         2020,
         null,
         110090.42000000001,
         null
        ],
        [
         292,
         null,
         "Ranjit Varkey Chudukatil",
         2,
         2020,
         null,
         466570.6000000002,
         null
        ],
        [
         286,
         null,
         "Pamela Ansman-Wolfe",
         6,
         2018,
         null,
         58977.10999999999,
         null
        ],
        [
         289,
         null,
         "David Campbell",
         8,
         2017,
         null,
         65119.32000000001,
         null
        ],
        [
         286,
         null,
         "Pamela Ansman-Wolfe",
         8,
         2019,
         null,
         64297.01999999999,
         null
        ],
        [
         291,
         null,
         "Jae Pak",
         1,
         2020,
         null,
         219460.40000000002,
         null
        ],
        [
         287,
         null,
         "Shu Ito",
         1,
         2018,
         null,
         80098.53,
         null
        ],
        [
         281,
         null,
         "Michael Blythe",
         9,
         2018,
         null,
         387548.4800000001,
         null
        ],
        [
         287,
         null,
         "Shu Ito",
         9,
         2017,
         null,
         283627.0399999999,
         null
        ],
        [
         288,
         null,
         "José Saraiva",
         3,
         2020,
         null,
         310931.14000000013,
         null
        ],
        [
         284,
         null,
         "Garrett Vargas",
         4,
         2020,
         null,
         4822.609999999999,
         null
        ],
        [
         284,
         null,
         "Garrett Vargas",
         11,
         2019,
         null,
         204343.42999999993,
         null
        ],
        [
         293,
         null,
         "Tete Mensa-Annan",
         11,
         2019,
         null,
         121366.30000000002,
         null
        ],
        [
         287,
         null,
         "Shu Ito",
         12,
         2018,
         null,
         274753.63000000006,
         null
        ],
        [
         284,
         null,
         "Garrett Vargas",
         6,
         2019,
         null,
         80738.18,
         null
        ],
        [
         281,
         null,
         "Michael Blythe",
         7,
         2017,
         null,
         63762.889999999985,
         null
        ],
        [
         281,
         null,
         "Michael Blythe",
         11,
         2019,
         null,
         407009.30999999994,
         null
        ],
        [
         288,
         null,
         "José Saraiva",
         9,
         2018,
         null,
         209046.02,
         null
        ],
        [
         287,
         null,
         "Shu Ito",
         10,
         2017,
         null,
         98870.18999999997,
         null
        ],
        [
         289,
         null,
         "David Campbell",
         9,
         2019,
         null,
         182682.48,
         null
        ],
        [
         289,
         null,
         "David Campbell",
         11,
         2018,
         null,
         143856.28,
         null
        ],
        [
         295,
         null,
         "Rachel Valdez",
         9,
         2019,
         null,
         131853.24000000002,
         null
        ],
        [
         290,
         null,
         "Amy Alberts",
         4,
         2019,
         null,
         968.4200000000001,
         null
        ],
        [
         286,
         null,
         "Pamela Ansman-Wolfe",
         9,
         2019,
         null,
         187613.08999999997,
         null
        ],
        [
         289,
         null,
         "David Campbell",
         8,
         2019,
         null,
         188606.96999999997,
         null
        ],
        [
         283,
         null,
         "Jillian Carson",
         2,
         2019,
         null,
         305970.38,
         null
        ],
        [
         285,
         null,
         "Tsvi Reiter",
         2,
         2018,
         null,
         311908.01,
         null
        ],
        [
         288,
         null,
         "José Saraiva",
         7,
         2018,
         null,
         82046.63,
         null
        ],
        [
         281,
         null,
         "Michael Blythe",
         2,
         2020,
         null,
         318543.7100000001,
         null
        ],
        [
         282,
         null,
         "Linda Mitchell",
         10,
         2017,
         null,
         5957.97,
         null
        ],
        [
         286,
         null,
         "Pamela Ansman-Wolfe",
         2,
         2018,
         null,
         190103.06000000003,
         null
        ],
        [
         286,
         null,
         "Pamela Ansman-Wolfe",
         6,
         2019,
         null,
         32210.25,
         null
        ],
        [
         283,
         null,
         "Jillian Carson",
         4,
         2020,
         null,
         214341.33999999997,
         null
        ],
        [
         283,
         null,
         "Jillian Carson",
         12,
         2017,
         null,
         302420.20999999996,
         null
        ],
        [
         272,
         null,
         "Stephen Jiang",
         12,
         2018,
         null,
         80477.79000000002,
         null
        ],
        [
         286,
         null,
         "Pamela Ansman-Wolfe",
         9,
         2017,
         null,
         13837.099999999999,
         null
        ],
        [
         292,
         null,
         "Ranjit Varkey Chudukatil",
         3,
         2019,
         null,
         59855.82000000001,
         null
        ],
        [
         287,
         null,
         "Shu Ito",
         3,
         2019,
         null,
         186556.11,
         null
        ],
        [
         281,
         null,
         "Michael Blythe",
         12,
         2019,
         null,
         368720.7100000001,
         null
        ],
        [
         286,
         null,
         "Pamela Ansman-Wolfe",
         2,
         2020,
         null,
         32837.33,
         null
        ],
        [
         285,
         null,
         "Tsvi Reiter",
         1,
         2020,
         null,
         113561.29000000001,
         null
        ],
        [
         283,
         null,
         "Jillian Carson",
         11,
         2018,
         null,
         365959.86,
         null
        ],
        [
         285,
         null,
         "Tsvi Reiter",
         5,
         2019,
         null,
         212648.7900000001,
         null
        ],
        [
         285,
         null,
         "Tsvi Reiter",
         8,
         2018,
         null,
         320528.06999999995,
         null
        ],
        [
         292,
         null,
         "Ranjit Varkey Chudukatil",
         12,
         2019,
         null,
         140311.16999999998,
         null
        ],
        [
         290,
         null,
         "Amy Alberts",
         8,
         2019,
         null,
         111401.21000000002,
         null
        ],
        [
         281,
         null,
         "Michael Blythe",
         5,
         2018,
         null,
         172429.52000000002,
         null
        ],
        [
         288,
         null,
         "José Saraiva",
         2,
         2019,
         null,
         121294.92000000001,
         null
        ],
        [
         287,
         null,
         "Shu Ito",
         8,
         2017,
         null,
         34096.25,
         null
        ],
        [
         289,
         null,
         "David Campbell",
         2,
         2018,
         null,
         126060.9,
         null
        ],
        [
         282,
         null,
         "Linda Mitchell",
         10,
         2018,
         null,
         99103.08000000002,
         null
        ],
        [
         272,
         null,
         "Stephen Jiang",
         11,
         2017,
         null,
         6341.5599999999995,
         null
        ],
        [
         285,
         null,
         "Tsvi Reiter",
         11,
         2018,
         null,
         249243.90000000005,
         null
        ],
        [
         290,
         null,
         "Amy Alberts",
         9,
         2019,
         null,
         35464.35,
         null
        ],
        [
         282,
         null,
         "Linda Mitchell",
         8,
         2017,
         null,
         270964.64999999997,
         null
        ],
        [
         282,
         null,
         "Linda Mitchell",
         1,
         2018,
         null,
         5895.67,
         null
        ],
        [
         294,
         null,
         "Syed Abbas",
         1,
         2020,
         null,
         3936.02,
         null
        ],
        [
         284,
         null,
         "Garrett Vargas",
         5,
         2020,
         null,
         175108.91999999995,
         null
        ],
        [
         285,
         null,
         "Tsvi Reiter",
         1,
         2019,
         null,
         123080.83,
         null
        ],
        [
         288,
         null,
         "José Saraiva",
         10,
         2017,
         null,
         199539.91999999998,
         null
        ],
        [
         284,
         null,
         "Garrett Vargas",
         9,
         2017,
         null,
         41701.490000000005,
         null
        ],
        [
         285,
         null,
         "Tsvi Reiter",
         8,
         2017,
         null,
         302889.30000000005,
         null
        ],
        [
         296,
         null,
         "Lynn Tsoflias",
         10,
         2019,
         null,
         55341.299999999996,
         null
        ],
        [
         282,
         null,
         "Linda Mitchell",
         5,
         2018,
         null,
         401776.44000000006,
         null
        ],
        [
         283,
         null,
         "Jillian Carson",
         7,
         2017,
         null,
         46695.58,
         null
        ],
        [
         285,
         null,
         "Tsvi Reiter",
         12,
         2017,
         null,
         252005.99000000005,
         null
        ],
        [
         288,
         null,
         "José Saraiva",
         8,
         2018,
         null,
         109302.24000000002,
         null
        ],
        [
         291,
         null,
         "Jae Pak",
         10,
         2018,
         null,
         393949.42000000004,
         null
        ],
        [
         292,
         null,
         "Ranjit Varkey Chudukatil",
         1,
         2020,
         null,
         40856.2,
         null
        ],
        [
         284,
         null,
         "Garrett Vargas",
         2,
         2020,
         null,
         117195.18,
         null
        ],
        [
         281,
         null,
         "Michael Blythe",
         12,
         2017,
         null,
         165336.79000000004,
         null
        ],
        [
         289,
         null,
         "David Campbell",
         1,
         2019,
         null,
         111175.24000000002,
         null
        ],
        [
         289,
         null,
         "David Campbell",
         5,
         2018,
         null,
         115901.69000000003,
         null
        ],
        [
         284,
         null,
         "Garrett Vargas",
         9,
         2018,
         null,
         89599.44,
         null
        ],
        [
         283,
         null,
         "Jillian Carson",
         1,
         2018,
         null,
         64192.81,
         null
        ],
        [
         272,
         null,
         "Stephen Jiang",
         3,
         2020,
         null,
         1414.24,
         null
        ],
        [
         282,
         null,
         "Linda Mitchell",
         10,
         2019,
         null,
         209396.53000000003,
         null
        ],
        [
         287,
         null,
         "Shu Ito",
         5,
         2018,
         null,
         103508.44999999998,
         null
        ],
        [
         289,
         null,
         "David Campbell",
         3,
         2018,
         null,
         63836.79,
         null
        ],
        [
         288,
         null,
         "José Saraiva",
         5,
         2018,
         null,
         212021.48000000004,
         null
        ],
        [
         287,
         null,
         "Shu Ito",
         11,
         2017,
         null,
         131414.16999999998,
         null
        ],
        [
         291,
         null,
         "Jae Pak",
         3,
         2019,
         null,
         325541.2500000001,
         null
        ],
        [
         286,
         null,
         "Pamela Ansman-Wolfe",
         11,
         2019,
         null,
         53947.91000000001,
         null
        ],
        [
         286,
         null,
         "Pamela Ansman-Wolfe",
         10,
         2019,
         null,
         112059.06,
         null
        ],
        [
         284,
         null,
         "Garrett Vargas",
         12,
         2019,
         null,
         202973.27000000002,
         null
        ],
        [
         293,
         null,
         "Tete Mensa-Annan",
         11,
         2018,
         null,
         221792.54000000004,
         null
        ],
        [
         283,
         null,
         "Jillian Carson",
         6,
         2018,
         null,
         270633.58999999997,
         null
        ],
        [
         293,
         null,
         "Tete Mensa-Annan",
         7,
         2019,
         null,
         105317.08,
         null
        ],
        [
         293,
         null,
         "Tete Mensa-Annan",
         5,
         2020,
         null,
         203820.54000000004,
         null
        ],
        [
         292,
         null,
         "Ranjit Varkey Chudukatil",
         4,
         2020,
         null,
         54695.32000000001,
         null
        ],
        [
         285,
         null,
         "Tsvi Reiter",
         4,
         2020,
         null,
         110957.71000000002,
         null
        ],
        [
         281,
         null,
         "Michael Blythe",
         4,
         2020,
         null,
         196655.96,
         null
        ],
        [
         288,
         null,
         "José Saraiva",
         4,
         2018,
         null,
         188997.03999999998,
         null
        ],
        [
         282,
         null,
         "Linda Mitchell",
         3,
         2019,
         null,
         164573.0,
         null
        ],
        [
         289,
         null,
         "David Campbell",
         8,
         2018,
         null,
         144741.03,
         null
        ],
        [
         291,
         null,
         "Jae Pak",
         1,
         2019,
         null,
         257972.1399999999,
         null
        ],
        [
         288,
         null,
         "José Saraiva",
         8,
         2017,
         null,
         160457.42,
         null
        ],
        [
         281,
         null,
         "Michael Blythe",
         2,
         2019,
         null,
         193254.44999999995,
         null
        ],
        [
         287,
         null,
         "Shu Ito",
         11,
         2018,
         null,
         215469.31999999998,
         null
        ],
        [
         289,
         null,
         "David Campbell",
         12,
         2019,
         null,
         144602.60000000003,
         null
        ],
        [
         285,
         null,
         "Tsvi Reiter",
         4,
         2019,
         null,
         172666.74000000002,
         null
        ],
        [
         281,
         null,
         "Michael Blythe",
         3,
         2018,
         null,
         128000.9,
         null
        ],
        [
         286,
         null,
         "Pamela Ansman-Wolfe",
         4,
         2018,
         null,
         26018.239999999998,
         null
        ],
        [
         288,
         null,
         "José Saraiva",
         6,
         2018,
         null,
         124745.64999999994,
         null
        ],
        [
         281,
         null,
         "Michael Blythe",
         6,
         2019,
         null,
         327715.99,
         null
        ],
        [
         290,
         null,
         "Amy Alberts",
         7,
         2019,
         null,
         3711.9500000000003,
         null
        ],
        [
         287,
         null,
         "Shu Ito",
         12,
         2017,
         null,
         280694.17000000004,
         null
        ],
        [
         283,
         null,
         "Jillian Carson",
         2,
         2020,
         null,
         167579.07,
         null
        ],
        [
         272,
         null,
         "Stephen Jiang",
         2,
         2018,
         null,
         61206.46,
         null
        ],
        [
         282,
         null,
         "Linda Mitchell",
         1,
         2019,
         null,
         73709.34000000003,
         null
        ],
        [
         283,
         null,
         "Jillian Carson",
         5,
         2019,
         null,
         383768.62000000034,
         null
        ],
        [
         281,
         null,
         "Michael Blythe",
         1,
         2019,
         null,
         229456.62000000005,
         null
        ],
        [
         282,
         null,
         "Linda Mitchell",
         12,
         2019,
         null,
         290252.53,
         null
        ],
        [
         281,
         null,
         "Michael Blythe",
         11,
         2018,
         null,
         439157.9199999999,
         null
        ],
        [
         281,
         null,
         "Michael Blythe",
         4,
         2019,
         null,
         315433.94999999995,
         null
        ],
        [
         284,
         null,
         "Garrett Vargas",
         4,
         2019,
         null,
         8091.439999999999,
         null
        ],
        [
         281,
         null,
         "Michael Blythe",
         5,
         2019,
         null,
         376632.0,
         null
        ],
        [
         294,
         null,
         "Syed Abbas",
         2,
         2020,
         null,
         1376.99,
         null
        ],
        [
         295,
         null,
         "Rachel Valdez",
         11,
         2019,
         null,
         184137.18,
         null
        ],
        [
         289,
         null,
         "David Campbell",
         3,
         2019,
         null,
         4244.1,
         null
        ],
        [
         288,
         null,
         "José Saraiva",
         5,
         2020,
         null,
         198679.46999999997,
         null
        ],
        [
         282,
         null,
         "Linda Mitchell",
         11,
         2017,
         null,
         389310.70000000007,
         null
        ],
        [
         287,
         null,
         "Shu Ito",
         5,
         2020,
         null,
         101628.18000000002,
         null
        ],
        [
         285,
         null,
         "Tsvi Reiter",
         6,
         2018,
         null,
         134904.57999999996,
         null
        ],
        [
         286,
         null,
         "Pamela Ansman-Wolfe",
         5,
         2018,
         null,
         252120.55000000002,
         null
        ],
        [
         287,
         null,
         "Shu Ito",
         6,
         2018,
         null,
         154052.44999999998,
         null
        ],
        [
         287,
         null,
         "Shu Ito",
         3,
         2020,
         null,
         189817.96000000002,
         null
        ],
        [
         293,
         null,
         "Tete Mensa-Annan",
         12,
         2018,
         null,
         34287.66,
         null
        ],
        [
         272,
         null,
         "Stephen Jiang",
         11,
         2018,
         null,
         2709.61,
         null
        ],
        [
         283,
         null,
         "Jillian Carson",
         7,
         2019,
         null,
         264651.4199999999,
         null
        ],
        [
         291,
         null,
         "Jae Pak",
         10,
         2019,
         null,
         389588.99000000005,
         null
        ],
        [
         284,
         null,
         "Garrett Vargas",
         7,
         2018,
         null,
         6650.3099999999995,
         null
        ],
        [
         286,
         null,
         "Pamela Ansman-Wolfe",
         7,
         2017,
         null,
         24432.56,
         null
        ],
        [
         293,
         null,
         "Tete Mensa-Annan",
         1,
         2020,
         null,
         73740.64,
         null
        ],
        [
         281,
         null,
         "Michael Blythe",
         1,
         2020,
         null,
         161919.59999999995,
         null
        ],
        [
         295,
         null,
         "Rachel Valdez",
         3,
         2020,
         null,
         81784.56000000001,
         null
        ],
        [
         272,
         null,
         "Stephen Jiang",
         5,
         2019,
         null,
         5255.26,
         null
        ],
        [
         292,
         null,
         "Ranjit Varkey Chudukatil",
         10,
         2019,
         null,
         53905.170000000006,
         null
        ],
        [
         283,
         null,
         "Jillian Carson",
         10,
         2018,
         null,
         333684.41000000015,
         null
        ],
        [
         283,
         null,
         "Jillian Carson",
         3,
         2019,
         null,
         186234.16,
         null
        ],
        [
         285,
         null,
         "Tsvi Reiter",
         11,
         2019,
         null,
         231810.11999999988,
         null
        ],
        [
         296,
         null,
         "Lynn Tsoflias",
         11,
         2019,
         null,
         121363.98000000001,
         null
        ],
        [
         290,
         null,
         "Amy Alberts",
         2,
         2020,
         null,
         42041.65,
         null
        ],
        [
         291,
         null,
         "Jae Pak",
         8,
         2019,
         null,
         285712.49000000005,
         null
        ],
        [
         289,
         null,
         "David Campbell",
         11,
         2017,
         null,
         111240.90999999999,
         null
        ],
        [
         272,
         null,
         "Stephen Jiang",
         9,
         2019,
         null,
         88615.83000000002,
         null
        ],
        [
         282,
         null,
         "Linda Mitchell",
         2,
         2020,
         null,
         499364.86,
         null
        ],
        [
         285,
         null,
         "Tsvi Reiter",
         11,
         2017,
         null,
         445850.99000000005,
         null
        ],
        [
         272,
         null,
         "Stephen Jiang",
         8,
         2017,
         null,
         20544.67,
         null
        ],
        [
         291,
         null,
         "Jae Pak",
         2,
         2020,
         null,
         205601.3399999999,
         null
        ],
        [
         282,
         null,
         "Linda Mitchell",
         4,
         2020,
         null,
         232334.96000000005,
         null
        ],
        [
         288,
         null,
         "José Saraiva",
         9,
         2017,
         null,
         161899.25000000003,
         null
        ],
        [
         296,
         null,
         "Lynn Tsoflias",
         2,
         2020,
         null,
         75124.6,
         null
        ],
        [
         289,
         null,
         "David Campbell",
         7,
         2017,
         null,
         69472.92000000001,
         null
        ],
        [
         272,
         null,
         "Stephen Jiang",
         4,
         2020,
         null,
         41336.649999999994,
         null
        ],
        [
         293,
         null,
         "Tete Mensa-Annan",
         2,
         2019,
         null,
         175651.69000000006,
         null
        ],
        [
         282,
         null,
         "Linda Mitchell",
         2,
         2018,
         null,
         380521.9100000001,
         null
        ],
        [
         289,
         null,
         "David Campbell",
         9,
         2017,
         null,
         68755.67000000001,
         null
        ],
        [
         289,
         null,
         "David Campbell",
         6,
         2018,
         null,
         26699.660000000003,
         null
        ],
        [
         289,
         null,
         "David Campbell",
         6,
         2019,
         null,
         2802.5699999999997,
         null
        ],
        [
         284,
         null,
         "Garrett Vargas",
         5,
         2018,
         null,
         172638.25,
         null
        ],
        [
         283,
         null,
         "Jillian Carson",
         10,
         2017,
         null,
         93361.00999999998,
         null
        ],
        [
         289,
         null,
         "David Campbell",
         7,
         2018,
         null,
         201474.95999999996,
         null
        ],
        [
         287,
         null,
         "Shu Ito",
         2,
         2019,
         null,
         155368.18000000005,
         null
        ],
        [
         291,
         null,
         "Jae Pak",
         12,
         2019,
         null,
         510042.9999999999,
         null
        ],
        [
         295,
         null,
         "Rachel Valdez",
         2,
         2020,
         null,
         144162.97,
         null
        ],
        [
         283,
         null,
         "Jillian Carson",
         2,
         2018,
         null,
         319638.7,
         null
        ],
        [
         288,
         null,
         "José Saraiva",
         11,
         2019,
         null,
         170325.17,
         null
        ],
        [
         293,
         null,
         "Tete Mensa-Annan",
         5,
         2019,
         null,
         219059.52000000002,
         null
        ],
        [
         290,
         null,
         "Amy Alberts",
         10,
         2019,
         null,
         323.99,
         null
        ],
        [
         284,
         null,
         "Garrett Vargas",
         12,
         2018,
         null,
         80795.55000000002,
         null
        ],
        [
         287,
         null,
         "Shu Ito",
         10,
         2018,
         null,
         95051.09,
         null
        ],
        [
         289,
         null,
         "David Campbell",
         10,
         2018,
         null,
         156877.85000000006,
         null
        ],
        [
         285,
         null,
         "Tsvi Reiter",
         3,
         2019,
         null,
         126003.54999999999,
         null
        ],
        [
         287,
         null,
         "Shu Ito",
         1,
         2019,
         null,
         94995.71000000002,
         null
        ],
        [
         292,
         null,
         "Ranjit Varkey Chudukatil",
         3,
         2020,
         null,
         88587.35999999999,
         null
        ],
        [
         281,
         null,
         "Michael Blythe",
         9,
         2017,
         null,
         132449.59000000003,
         null
        ],
        [
         293,
         null,
         "Tete Mensa-Annan",
         1,
         2019,
         null,
         9911.169999999998,
         null
        ],
        [
         272,
         null,
         "Stephen Jiang",
         7,
         2018,
         null,
         3575.7099999999996,
         null
        ],
        [
         286,
         null,
         "Pamela Ansman-Wolfe",
         1,
         2018,
         null,
         41067.76,
         null
        ],
        [
         281,
         null,
         "Michael Blythe",
         4,
         2018,
         null,
         143767.74,
         null
        ],
        [
         290,
         null,
         "Amy Alberts",
         8,
         2018,
         null,
         73780.65000000002,
         null
        ],
        [
         286,
         null,
         "Pamela Ansman-Wolfe",
         7,
         2018,
         null,
         99316.07,
         null
        ],
        [
         294,
         null,
         "Syed Abbas",
         12,
         2019,
         null,
         31157.98999999999,
         null
        ],
        [
         289,
         null,
         "David Campbell",
         10,
         2019,
         null,
         118132.80000000002,
         null
        ],
        [
         282,
         null,
         "Linda Mitchell",
         1,
         2020,
         null,
         117710.71000000002,
         null
        ],
        [
         282,
         null,
         "Linda Mitchell",
         4,
         2018,
         null,
         3762.24,
         null
        ],
        [
         291,
         null,
         "Jae Pak",
         2,
         2019,
         null,
         233804.31000000006,
         null
        ],
        [
         286,
         null,
         "Pamela Ansman-Wolfe",
         12,
         2018,
         null,
         47246.229999999996,
         null
        ],
        [
         295,
         null,
         "Rachel Valdez",
         10,
         2019,
         null,
         193028.67999999996,
         null
        ],
        [
         296,
         null,
         "Lynn Tsoflias",
         1,
         2020,
         null,
         59443.43999999999,
         null
        ],
        [
         292,
         null,
         "Ranjit Varkey Chudukatil",
         2,
         2019,
         null,
         113541.73000000004,
         null
        ],
        [
         290,
         null,
         "Amy Alberts",
         3,
         2020,
         null,
         53500.149999999994,
         null
        ],
        [
         281,
         null,
         "Michael Blythe",
         10,
         2019,
         null,
         222459.17999999993,
         null
        ],
        [
         285,
         null,
         "Tsvi Reiter",
         12,
         2018,
         null,
         150094.16,
         null
        ],
        [
         288,
         null,
         "José Saraiva",
         9,
         2019,
         null,
         473834.8200000002,
         null
        ],
        [
         288,
         null,
         "José Saraiva",
         1,
         2018,
         null,
         136171.37,
         null
        ],
        [
         281,
         null,
         "Michael Blythe",
         11,
         2017,
         null,
         173840.68000000008,
         null
        ],
        [
         286,
         null,
         "Pamela Ansman-Wolfe",
         8,
         2017,
         null,
         153058.63999999996,
         null
        ],
        [
         282,
         null,
         "Linda Mitchell",
         12,
         2017,
         null,
         289492.89,
         null
        ],
        [
         293,
         null,
         "Tete Mensa-Annan",
         10,
         2019,
         null,
         98281.23999999999,
         null
        ],
        [
         287,
         null,
         "Shu Ito",
         3,
         2018,
         null,
         237589.98999999993,
         null
        ],
        [
         285,
         null,
         "Tsvi Reiter",
         9,
         2018,
         null,
         174198.82,
         null
        ],
        [
         287,
         null,
         "Shu Ito",
         11,
         2019,
         null,
         99986.78000000001,
         null
        ],
        [
         283,
         null,
         "Jillian Carson",
         10,
         2019,
         null,
         243341.88,
         null
        ],
        [
         283,
         null,
         "Jillian Carson",
         11,
         2017,
         null,
         396569.91000000015,
         null
        ],
        [
         289,
         null,
         "David Campbell",
         1,
         2018,
         null,
         93417.40000000001,
         null
        ],
        [
         282,
         null,
         "Linda Mitchell",
         7,
         2017,
         null,
         5475.95,
         null
        ],
        [
         284,
         null,
         "Garrett Vargas",
         11,
         2018,
         null,
         224910.66000000003,
         null
        ],
        [
         296,
         null,
         "Lynn Tsoflias",
         3,
         2020,
         null,
         200639.57000000012,
         null
        ],
        [
         288,
         null,
         "José Saraiva",
         1,
         2020,
         null,
         80604.59000000001,
         null
        ],
        [
         283,
         null,
         "Jillian Carson",
         4,
         2018,
         null,
         110803.11,
         null
        ],
        [
         286,
         null,
         "Pamela Ansman-Wolfe",
         4,
         2020,
         null,
         156339.38,
         null
        ],
        [
         292,
         null,
         "Ranjit Varkey Chudukatil",
         12,
         2018,
         null,
         87995.01000000001,
         null
        ],
        [
         283,
         null,
         "Jillian Carson",
         9,
         2019,
         null,
         422251.2099999999,
         null
        ],
        [
         292,
         null,
         "Ranjit Varkey Chudukatil",
         1,
         2019,
         null,
         34522.09,
         null
        ],
        [
         285,
         null,
         "Tsvi Reiter",
         5,
         2020,
         null,
         262262.45999999996,
         null
        ],
        [
         291,
         null,
         "Jae Pak",
         4,
         2019,
         null,
         431455.25000000006,
         null
        ],
        [
         291,
         null,
         "Jae Pak",
         9,
         2018,
         null,
         474699.7799999998,
         null
        ],
        [
         281,
         null,
         "Michael Blythe",
         6,
         2018,
         null,
         134935.4,
         null
        ],
        [
         285,
         null,
         "Tsvi Reiter",
         10,
         2017,
         null,
         139223.75,
         null
        ],
        [
         284,
         null,
         "Garrett Vargas",
         1,
         2019,
         null,
         2852.51,
         null
        ],
        [
         284,
         null,
         "Garrett Vargas",
         10,
         2019,
         null,
         13416.75,
         null
        ],
        [
         296,
         null,
         "Lynn Tsoflias",
         12,
         2019,
         null,
         185889.7400000001,
         null
        ],
        [
         288,
         null,
         "José Saraiva",
         11,
         2018,
         null,
         136752.50999999998,
         null
        ],
        [
         289,
         null,
         "David Campbell",
         9,
         2018,
         null,
         11293.72,
         null
        ],
        [
         282,
         null,
         "Linda Mitchell",
         4,
         2019,
         null,
         88516.99,
         null
        ],
        [
         291,
         null,
         "Jae Pak",
         6,
         2019,
         null,
         362867.0800000001,
         null
        ],
        [
         292,
         null,
         "Ranjit Varkey Chudukatil",
         10,
         2018,
         null,
         55939.64,
         null
        ],
        [
         291,
         null,
         "Jae Pak",
         7,
         2018,
         null,
         635731.8,
         null
        ],
        [
         293,
         null,
         "Tete Mensa-Annan",
         4,
         2019,
         null,
         9485.09,
         null
        ],
        [
         282,
         null,
         "Linda Mitchell",
         9,
         2018,
         null,
         411475.14000000013,
         null
        ],
        [
         281,
         null,
         "Michael Blythe",
         9,
         2019,
         null,
         534258.97,
         null
        ],
        [
         293,
         null,
         "Tete Mensa-Annan",
         8,
         2019,
         null,
         127794.11000000004,
         null
        ],
        [
         290,
         null,
         "Amy Alberts",
         6,
         2019,
         null,
         51365.08,
         null
        ],
        [
         286,
         null,
         "Pamela Ansman-Wolfe",
         1,
         2020,
         null,
         112971.03,
         null
        ],
        [
         291,
         null,
         "Jae Pak",
         7,
         2019,
         null,
         488041.22999999986,
         null
        ],
        [
         283,
         null,
         "Jillian Carson",
         9,
         2017,
         null,
         141197.28000000003,
         null
        ],
        [
         286,
         null,
         "Pamela Ansman-Wolfe",
         11,
         2017,
         null,
         288668.8100000001,
         null
        ],
        [
         284,
         null,
         "Garrett Vargas",
         8,
         2017,
         null,
         156636.31999999998,
         null
        ],
        [
         285,
         null,
         "Tsvi Reiter",
         3,
         2020,
         null,
         181959.25,
         null
        ],
        [
         288,
         null,
         "José Saraiva",
         2,
         2018,
         null,
         163392.55000000002,
         null
        ],
        [
         296,
         null,
         "Lynn Tsoflias",
         5,
         2020,
         null,
         98998.03,
         null
        ],
        [
         282,
         null,
         "Linda Mitchell",
         9,
         2017,
         null,
         182616.16,
         null
        ],
        [
         285,
         null,
         "Tsvi Reiter",
         9,
         2019,
         null,
         218382.2,
         null
        ],
        [
         289,
         null,
         "David Campbell",
         7,
         2019,
         null,
         172652.75,
         null
        ],
        [
         283,
         null,
         "Jillian Carson",
         5,
         2020,
         null,
         210719.0899999999,
         null
        ],
        [
         286,
         null,
         "Pamela Ansman-Wolfe",
         3,
         2020,
         null,
         142219.81000000003,
         null
        ],
        [
         283,
         null,
         "Jillian Carson",
         3,
         2018,
         null,
         267190.03000000014,
         null
        ],
        [
         289,
         null,
         "David Campbell",
         11,
         2019,
         null,
         106379.79000000001,
         null
        ],
        [
         272,
         null,
         "Stephen Jiang",
         1,
         2020,
         null,
         71119.51,
         null
        ],
        [
         288,
         null,
         "José Saraiva",
         12,
         2017,
         null,
         225890.35999999996,
         null
        ],
        [
         283,
         null,
         "Jillian Carson",
         12,
         2018,
         null,
         351327.7200000001,
         null
        ],
        [
         284,
         null,
         "Garrett Vargas",
         7,
         2017,
         null,
         9109.2,
         null
        ],
        [
         283,
         null,
         "Jillian Carson",
         8,
         2019,
         null,
         347038.97999999986,
         null
        ],
        [
         287,
         null,
         "Shu Ito",
         4,
         2018,
         null,
         91488.26999999996,
         null
        ],
        [
         283,
         null,
         "Jillian Carson",
         8,
         2017,
         null,
         267762.44,
         null
        ],
        [
         284,
         null,
         "Garrett Vargas",
         1,
         2018,
         null,
         27721.909999999996,
         null
        ],
        [
         281,
         null,
         "Michael Blythe",
         10,
         2017,
         null,
         107815.83,
         null
        ],
        [
         291,
         null,
         "Jae Pak",
         9,
         2019,
         null,
         431559.6899999999,
         null
        ],
        [
         283,
         null,
         "Jillian Carson",
         1,
         2019,
         null,
         272262.18999999994,
         null
        ],
        [
         282,
         null,
         "Linda Mitchell",
         9,
         2019,
         null,
         343136.42000000004,
         null
        ],
        [
         286,
         null,
         "Pamela Ansman-Wolfe",
         3,
         2018,
         null,
         50762.70999999999,
         null
        ],
        [
         291,
         null,
         "Jae Pak",
         5,
         2020,
         null,
         221286.08999999997,
         null
        ],
        [
         281,
         null,
         "Michael Blythe",
         3,
         2020,
         null,
         248157.96999999994,
         null
        ],
        [
         287,
         null,
         "Shu Ito",
         12,
         2019,
         null,
         230458.2400000001,
         null
        ],
        [
         287,
         null,
         "Shu Ito",
         7,
         2017,
         null,
         59708.38999999999,
         null
        ],
        [
         284,
         null,
         "Garrett Vargas",
         4,
         2018,
         null,
         39176.03999999999,
         null
        ],
        [
         282,
         null,
         "Linda Mitchell",
         11,
         2018,
         null,
         578474.7200000002,
         null
        ],
        [
         272,
         null,
         "Stephen Jiang",
         8,
         2018,
         null,
         55678.330000000016,
         null
        ],
        [
         295,
         null,
         "Rachel Valdez",
         7,
         2019,
         null,
         187479.84,
         null
        ],
        [
         289,
         null,
         "David Campbell",
         4,
         2020,
         null,
         128997.75999999998,
         null
        ],
        [
         285,
         null,
         "Tsvi Reiter",
         7,
         2017,
         null,
         104419.22,
         null
        ],
        [
         281,
         null,
         "Michael Blythe",
         8,
         2019,
         null,
         453349.1899999998,
         null
        ],
        [
         284,
         null,
         "Garrett Vargas",
         8,
         2018,
         null,
         329324.45999999996,
         null
        ],
        [
         290,
         null,
         "Amy Alberts",
         12,
         2019,
         null,
         220927.60000000003,
         null
        ],
        [
         294,
         null,
         "Syed Abbas",
         5,
         2020,
         null,
         17070.090000000004,
         null
        ],
        [
         285,
         null,
         "Tsvi Reiter",
         4,
         2018,
         null,
         153853.11,
         null
        ],
        [
         272,
         null,
         "Stephen Jiang",
         5,
         2020,
         null,
         98478.59999999999,
         null
        ],
        [
         287,
         null,
         "Shu Ito",
         2,
         2018,
         null,
         78892.28999999998,
         null
        ],
        [
         286,
         null,
         "Pamela Ansman-Wolfe",
         12,
         2017,
         null,
         69681.68000000001,
         null
        ],
        [
         290,
         null,
         "Amy Alberts",
         1,
         2020,
         null,
         323.99,
         null
        ],
        [
         282,
         null,
         "Linda Mitchell",
         11,
         2019,
         null,
         568603.1699999997,
         null
        ],
        [
         282,
         null,
         "Linda Mitchell",
         8,
         2018,
         null,
         650254.3800000006,
         null
        ],
        [
         295,
         null,
         "Rachel Valdez",
         8,
         2019,
         null,
         192177.58000000002,
         null
        ],
        [
         288,
         null,
         "José Saraiva",
         12,
         2018,
         null,
         166015.7,
         null
        ],
        [
         288,
         null,
         "José Saraiva",
         6,
         2019,
         null,
         79195.88,
         null
        ],
        [
         286,
         null,
         "Pamela Ansman-Wolfe",
         3,
         2019,
         null,
         34427.25,
         null
        ],
        [
         290,
         null,
         "Amy Alberts",
         3,
         2019,
         null,
         1308.94,
         null
        ],
        [
         272,
         null,
         "Stephen Jiang",
         9,
         2018,
         null,
         523.78,
         null
        ],
        [
         272,
         null,
         "Stephen Jiang",
         9,
         2017,
         null,
         2039.99,
         null
        ],
        [
         290,
         null,
         "Amy Alberts",
         4,
         2020,
         null,
         1784.5,
         null
        ]
       ],
       "datasetInfos": [],
       "dbfsResultPath": null,
       "isJsonSchema": true,
       "metadata": {},
       "overflow": false,
       "plotOptions": {
        "customPlotOptions": {},
        "displayType": "table",
        "pivotAggregation": null,
        "pivotColumns": null,
        "xColumns": null,
        "yColumns": null
       },
       "removedWidgets": [],
       "schema": [
        {
         "metadata": "{}",
         "name": "employee_key",
         "type": "\"integer\""
        },
        {
         "metadata": "{}",
         "name": "employee_id",
         "type": "\"integer\""
        },
        {
         "metadata": "{}",
         "name": "salesperson",
         "type": "\"string\""
        },
        {
         "metadata": "{}",
         "name": "month",
         "type": "\"integer\""
        },
        {
         "metadata": "{}",
         "name": "year",
         "type": "\"integer\""
        },
        {
         "metadata": "{}",
         "name": "target",
         "type": "\"float\""
        },
        {
         "metadata": "{}",
         "name": "total_sales",
         "type": "\"double\""
        },
        {
         "metadata": "{}",
         "name": "target_achievement_pct",
         "type": "\"double\""
        }
       ],
       "type": "table"
      }
     },
     "output_type": "display_data"
    }
   ],
   "source": [
    "from pyspark.sql.functions import col, month, year, sum, round\n",
    "\n",
    "# 1. Load data\n",
    "df_sales = spark.read.format(\"delta\").load(\"/mnt/silver/Sales\") \\\n",
    "    .withColumn(\"month\", month(\"orderdate\")) \\\n",
    "    .withColumn(\"year\", year(\"orderdate\"))\n",
    "\n",
    "df_targets = spark.read.format(\"delta\").load(\"/mnt/silver/Targets\")\n",
    "df_salesperson = spark.read.format(\"delta\").load(\"/mnt/silver/Salesperson\")\n",
    "\n",
    "# 2. Join with aliases\n",
    "df_joined = df_sales.alias(\"s\") \\\n",
    "    .join(df_salesperson.alias(\"p\"), col(\"s.EmployeeKey\") == col(\"p.EmployeeKey\"), \"left\") \\\n",
    "    .join(df_targets.alias(\"t\"),\n",
    "          (col(\"s.EmployeeKey\") == col(\"t.EmployeeID\")) &\n",
    "          (col(\"s.month\") == col(\"t.month\")) &\n",
    "          (col(\"s.year\") == col(\"t.year\")),\n",
    "          \"left\"\n",
    "    )\n",
    "\n",
    "# 3. Aggregate\n",
    "df_gold = df_joined.groupBy(\n",
    "    col(\"s.EmployeeKey\").alias(\"employee_key\"),\n",
    "    col(\"t.EmployeeID\").alias(\"employee_id\"),\n",
    "    col(\"p.salesperson\"),\n",
    "    col(\"s.month\"),\n",
    "    col(\"s.year\"),\n",
    "    col(\"t.target\")\n",
    ").agg(\n",
    "    sum(\"s.sales\").alias(\"total_sales\")\n",
    ").withColumn(\n",
    "    \"target_achievement_pct\",\n",
    "    round((col(\"total_sales\") / col(\"target\")) * 100, 2)\n",
    ")\n",
    "\n",
    "display(df_gold)\n",
    "\n"
   ]
  },
  {
   "cell_type": "markdown",
   "metadata": {
    "application/vnd.databricks.v1+cell": {
     "cellMetadata": {
      "byteLimit": 2048000,
      "rowLimit": 10000
     },
     "inputWidgets": {},
     "nuid": "58633f54-740e-46d7-8589-8909f6d771c1",
     "showTitle": false,
     "tableResultSettingsMap": {},
     "title": ""
    }
   },
   "source": []
  },
  {
   "cell_type": "markdown",
   "metadata": {
    "application/vnd.databricks.v1+cell": {
     "cellMetadata": {
      "byteLimit": 2048000,
      "rowLimit": 10000
     },
     "inputWidgets": {},
     "nuid": "d47eed3b-5f06-410b-8e79-893de5734a38",
     "showTitle": false,
     "tableResultSettingsMap": {},
     "title": ""
    }
   },
   "source": []
  },
  {
   "cell_type": "markdown",
   "metadata": {
    "application/vnd.databricks.v1+cell": {
     "cellMetadata": {
      "byteLimit": 2048000,
      "rowLimit": 10000
     },
     "inputWidgets": {},
     "nuid": "66fbca69-04df-4350-adfd-55bdd8a5189c",
     "showTitle": false,
     "tableResultSettingsMap": {},
     "title": ""
    }
   },
   "source": [
    "## "
   ]
  }
 ],
 "metadata": {
  "application/vnd.databricks.v1+notebook": {
   "computePreferences": null,
   "dashboards": [],
   "environmentMetadata": {
    "base_environment": "",
    "environment_version": "2"
   },
   "inputWidgetPreferences": null,
   "language": "python",
   "notebookMetadata": {
    "mostRecentlyExecutedCommandWithImplicitDF": {
     "commandId": 8088004055757775,
     "dataframes": [
      "_sqldf"
     ]
    },
    "pythonIndentUnit": 4
   },
   "notebookName": "silver_layer",
   "widgets": {}
  },
  "language_info": {
   "name": "python"
  }
 },
 "nbformat": 4,
 "nbformat_minor": 0
}