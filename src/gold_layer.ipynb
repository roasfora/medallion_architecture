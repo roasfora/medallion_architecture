{
 "cells": [
  {
   "cell_type": "code",
   "execution_count": 0,
   "metadata": {
    "application/vnd.databricks.v1+cell": {
     "cellMetadata": {
      "byteLimit": 2048000,
      "rowLimit": 10000
     },
     "inputWidgets": {},
     "nuid": "7b47d475-6945-4428-a55a-daad0ef89db3",
     "showTitle": false,
     "tableResultSettingsMap": {},
     "title": ""
    }
   },
   "outputs": [
    {
     "output_type": "display_data",
     "data": {
      "text/html": [
       "<style scoped>\n",
       "  .table-result-container {\n",
       "    max-height: 300px;\n",
       "    overflow: auto;\n",
       "  }\n",
       "  table, th, td {\n",
       "    border: 1px solid black;\n",
       "    border-collapse: collapse;\n",
       "  }\n",
       "  th, td {\n",
       "    padding: 5px;\n",
       "  }\n",
       "  th {\n",
       "    text-align: left;\n",
       "  }\n",
       "</style><div class='table-result-container'><table class='table-result'><thead style='background-color: white'><tr><th>path</th><th>name</th><th>size</th><th>modificationTime</th></tr></thead><tbody><tr><td>dbfs:/mnt/silver/Product/</td><td>Product/</td><td>0</td><td>1747477754000</td></tr><tr><td>dbfs:/mnt/silver/Region/</td><td>Region/</td><td>0</td><td>1747477819000</td></tr><tr><td>dbfs:/mnt/silver/Reseller/</td><td>Reseller/</td><td>0</td><td>1747478163000</td></tr><tr><td>dbfs:/mnt/silver/Sales/</td><td>Sales/</td><td>0</td><td>1747478977000</td></tr><tr><td>dbfs:/mnt/silver/Salesperson/</td><td>Salesperson/</td><td>0</td><td>1747479611000</td></tr><tr><td>dbfs:/mnt/silver/SalespersonRegion/</td><td>SalespersonRegion/</td><td>0</td><td>1747479661000</td></tr><tr><td>dbfs:/mnt/silver/Targets/</td><td>Targets/</td><td>0</td><td>1747479835000</td></tr></tbody></table></div>"
      ]
     },
     "metadata": {
      "application/vnd.databricks.v1+output": {
       "addedWidgets": {},
       "aggData": [],
       "aggError": "",
       "aggOverflow": false,
       "aggSchema": [],
       "aggSeriesLimitReached": false,
       "aggType": "",
       "arguments": {},
       "columnCustomDisplayInfos": {},
       "data": [
        [
         "dbfs:/mnt/silver/Product/",
         "Product/",
         0,
         1747477754000
        ],
        [
         "dbfs:/mnt/silver/Region/",
         "Region/",
         0,
         1747477819000
        ],
        [
         "dbfs:/mnt/silver/Reseller/",
         "Reseller/",
         0,
         1747478163000
        ],
        [
         "dbfs:/mnt/silver/Sales/",
         "Sales/",
         0,
         1747478977000
        ],
        [
         "dbfs:/mnt/silver/Salesperson/",
         "Salesperson/",
         0,
         1747479611000
        ],
        [
         "dbfs:/mnt/silver/SalespersonRegion/",
         "SalespersonRegion/",
         0,
         1747479661000
        ],
        [
         "dbfs:/mnt/silver/Targets/",
         "Targets/",
         0,
         1747479835000
        ]
       ],
       "datasetInfos": [],
       "dbfsResultPath": null,
       "isJsonSchema": true,
       "metadata": {
        "isDbfsCommandResult": false
       },
       "overflow": false,
       "plotOptions": {
        "customPlotOptions": {},
        "displayType": "table",
        "pivotAggregation": null,
        "pivotColumns": null,
        "xColumns": null,
        "yColumns": null
       },
       "removedWidgets": [],
       "schema": [
        {
         "metadata": "{}",
         "name": "path",
         "type": "\"string\""
        },
        {
         "metadata": "{}",
         "name": "name",
         "type": "\"string\""
        },
        {
         "metadata": "{}",
         "name": "size",
         "type": "\"long\""
        },
        {
         "metadata": "{}",
         "name": "modificationTime",
         "type": "\"long\""
        }
       ],
       "type": "table"
      }
     },
     "output_type": "display_data"
    }
   ],
   "source": [
    "%fs ls /mnt/silver"
   ]
  },
  {
   "cell_type": "markdown",
   "metadata": {
    "application/vnd.databricks.v1+cell": {
     "cellMetadata": {},
     "inputWidgets": {},
     "nuid": "64d6320a-687c-42dc-a658-6f35ca5e7159",
     "showTitle": false,
     "tableResultSettingsMap": {},
     "title": ""
    }
   },
   "source": [
    "# Sales Revenue by Region and Month\n",
    "\n",
    "Tables: Sales & Region"
   ]
  },
  {
   "cell_type": "code",
   "execution_count": 0,
   "metadata": {
    "application/vnd.databricks.v1+cell": {
     "cellMetadata": {
      "byteLimit": 2048000,
      "rowLimit": 10000
     },
     "inputWidgets": {},
     "nuid": "c5087693-f16b-4be3-a2f1-7d3fb966e06e",
     "showTitle": false,
     "tableResultSettingsMap": {},
     "title": ""
    }
   },
   "outputs": [],
   "source": [
    "df_sales = spark.read.format(\"delta\").load(\"/mnt/silver/Sales\")\n",
    "\n",
    "df_region = spark.read.format(\"delta\").load(\"/mnt/silver/Region\")\n",
    "\n",
    "df = df_sales.join(df_region, \"salesterritorykey\", \"left\")\n",
    "\n",
    "from pyspark.sql.functions import date_format, sum\n",
    "\n",
    "df = df.withColumn(\"month_year\", date_format(\"orderdate\", \"yyyy-MM\"))\n",
    "\n",
    "df = df.groupBy(\"region\", \"month_year\") \\\n",
    "  .agg(sum(\"sales\").alias(\"total_sales\")) \\\n",
    "  .orderBy(\"month_year\") \n",
    "\n"
   ]
  },
  {
   "cell_type": "code",
   "execution_count": 0,
   "metadata": {
    "application/vnd.databricks.v1+cell": {
     "cellMetadata": {
      "byteLimit": 2048000,
      "rowLimit": 10000
     },
     "inputWidgets": {},
     "nuid": "aacf70bf-de4f-4e7d-b77d-f3f48a4e639c",
     "showTitle": false,
     "tableResultSettingsMap": {},
     "title": ""
    }
   },
   "outputs": [],
   "source": [
    "df.write.mode(\"overwrite\").saveAsTable(\"gold_sales_by_region_month\")\n"
   ]
  },
  {
   "cell_type": "markdown",
   "metadata": {
    "application/vnd.databricks.v1+cell": {
     "cellMetadata": {},
     "inputWidgets": {},
     "nuid": "c6972cad-e640-4eea-9c1d-27484fa621ab",
     "showTitle": false,
     "tableResultSettingsMap": {},
     "title": ""
    }
   },
   "source": [
    "#SalesPerson Target Achievement\n",
    "\n",
    "tables - sales, targets, salesperson"
   ]
  },
  {
   "cell_type": "code",
   "execution_count": 0,
   "metadata": {
    "application/vnd.databricks.v1+cell": {
     "cellMetadata": {
      "byteLimit": 2048000,
      "rowLimit": 10000
     },
     "inputWidgets": {},
     "nuid": "93f9c5bd-5ef2-4b8b-8aba-e1ba649fc16d",
     "showTitle": false,
     "tableResultSettingsMap": {},
     "title": ""
    }
   },
   "outputs": [],
   "source": [
    "from pyspark.sql.functions import col, sum, round, month, year\n",
    "\n",
    "# Load and prepare DataFrames\n",
    "df_sales = spark.read.format(\"delta\").load(\"/mnt/silver/Sales\") \\\n",
    "    .withColumn(\"month\", month(\"orderdate\")) \\\n",
    "    .withColumn(\"year\", year(\"orderdate\"))\n",
    "\n",
    "df_salesperson = spark.read.format(\"delta\").load(\"/mnt/silver/Salesperson\")\n",
    "df_targets = spark.read.format(\"delta\").load(\"/mnt/silver/Targets\")\n",
    "\n",
    "# JOIN: Sales + Salesperson on employeekey, then join with Targets on employeeid/month/year\n",
    "df_joined = df_sales.alias(\"s\") \\\n",
    "    .join(df_salesperson.alias(\"p\"), col(\"s.employeekey\") == col(\"p.employeekey\"), \"left\") \\\n",
    "    .join(df_targets.alias(\"t\"),\n",
    "          (col(\"p.employeeid\") == col(\"t.employeeid\")) &\n",
    "          (col(\"s.month\") == col(\"t.month\")) &\n",
    "          (col(\"s.year\") == col(\"t.year\")),\n",
    "          \"left\")\n",
    "\n",
    "# AGGREGATE to Gold Layer\n",
    "df_gold = df_joined.groupBy(\n",
    "    col(\"s.employeekey\").alias(\"employee_key\"),\n",
    "    col(\"p.employeeid\").alias(\"employee_id\"),\n",
    "    col(\"p.salesperson\"),\n",
    "    col(\"s.month\"),\n",
    "    col(\"s.year\"),\n",
    "    col(\"t.target\")\n",
    ").agg(\n",
    "    sum(\"s.sales\").alias(\"total_sales\")\n",
    ").withColumn(\n",
    "    \"target_achievement_pct\",\n",
    "    round((col(\"total_sales\") / col(\"target\")) * 100, 2)\n",
    ")\n",
    "\n",
    "\n",
    "#Save to Gold layer\n",
    "df_gold.write.format(\"delta\").mode(\"overwrite\").saveAsTable(\"sales_vs_target\")\n"
   ]
  },
  {
   "cell_type": "markdown",
   "metadata": {
    "application/vnd.databricks.v1+cell": {
     "cellMetadata": {},
     "inputWidgets": {},
     "nuid": "a7e0da56-e29c-4cc7-ac9f-0d8004f6624c",
     "showTitle": false,
     "tableResultSettingsMap": {},
     "title": ""
    }
   },
   "source": [
    "# Top 10 Resellers by Revenue\n",
    "\n",
    "tables - sales, reseller\n",
    "\n"
   ]
  },
  {
   "cell_type": "code",
   "execution_count": 0,
   "metadata": {
    "application/vnd.databricks.v1+cell": {
     "cellMetadata": {
      "byteLimit": 2048000,
      "rowLimit": 10000
     },
     "inputWidgets": {},
     "nuid": "a6cece63-2223-4cce-8b04-95fc59c9a1df",
     "showTitle": false,
     "tableResultSettingsMap": {},
     "title": ""
    }
   },
   "outputs": [],
   "source": [
    "from pyspark.sql import Window\n",
    "from pyspark.sql.functions import sum, rank, col\n",
    "\n",
    "# Load data\n",
    "df_sales = spark.read.format(\"delta\").load(\"/mnt/silver/Sales\")\n",
    "df_reseller = spark.read.format(\"delta\").load(\"/mnt/silver/Reseller\")\n",
    "\n",
    "# Join and aggregate total sales by reseller\n",
    "df_joined = df_sales.join(df_reseller, \"resellerkey\", \"left\")\n",
    "\n",
    "df_grouped = df_joined.groupBy(\"reseller\") \\\n",
    "    .agg(sum(\"sales\").alias(\"total_sales\"))\n",
    "\n",
    "# Define window for ranking\n",
    "window = Window.orderBy(col(\"total_sales\").desc())\n",
    "\n",
    "# Add rank column\n",
    "df_ranked = df_grouped.withColumn(\"rank\", rank().over(window)).filter(\"rank <= 10\")\n",
    "\n",
    "# Show result\n",
    "df_ranked.write.mode(\"overwrite\").saveAsTable(\"top_10_resellers\")\n"
   ]
  },
  {
   "cell_type": "markdown",
   "metadata": {
    "application/vnd.databricks.v1+cell": {
     "cellMetadata": {},
     "inputWidgets": {},
     "nuid": "675336f3-0ac4-4cc2-b4bf-4b0de5d4dd80",
     "showTitle": false,
     "tableResultSettingsMap": {},
     "title": ""
    }
   },
   "source": [
    "# Product Profitibility Report\n",
    "\n",
    "tables - sales, product"
   ]
  },
  {
   "cell_type": "code",
   "execution_count": 0,
   "metadata": {
    "application/vnd.databricks.v1+cell": {
     "cellMetadata": {
      "byteLimit": 2048000,
      "rowLimit": 10000
     },
     "inputWidgets": {},
     "nuid": "a44cb95a-36d9-4a87-a98d-5c69c1591b36",
     "showTitle": false,
     "tableResultSettingsMap": {},
     "title": ""
    }
   },
   "outputs": [],
   "source": [
    "# Load data\n",
    "df_sales = spark.read.format(\"delta\").load(\"/mnt/silver/Sales\")\n",
    "df_reseller = spark.read.format(\"delta\").load(\"/mnt/silver/Product\")\n",
    "\n",
    "df_joined = df_sales.join(df_reseller, \"productkey\", \"left\")\n",
    "\n",
    "df_joined = df_joined.withColumn(\"total_cost\", col(\"standard_cost\") * col(\"quantity\"))\n",
    "\n",
    "from pyspark.sql.functions import sum, col\n",
    "\n",
    "df = df_joined.groupBy(\"product\") \\\n",
    "    .agg(\n",
    "        sum(\"sales\").alias(\"total_sales\"),\n",
    "        sum(\"total_cost\").alias(\"total_cost\")\n",
    "    )\n",
    "\n",
    "df = df.withColumn(\"profit\", col(\"total_sales\") / col(\"total_cost\"))\n",
    "\n",
    "df.write.mode(\"overwrite\").saveAsTable(\"profit_by_product\")\n"
   ]
  }
 ],
 "metadata": {
  "application/vnd.databricks.v1+notebook": {
   "computePreferences": null,
   "dashboards": [],
   "environmentMetadata": {
    "base_environment": "",
    "environment_version": "2"
   },
   "inputWidgetPreferences": null,
   "language": "python",
   "notebookMetadata": {
    "mostRecentlyExecutedCommandWithImplicitDF": {
     "commandId": 5903572128997988,
     "dataframes": [
      "_sqldf"
     ]
    },
    "pythonIndentUnit": 4
   },
   "notebookName": "gold_layer",
   "widgets": {}
  },
  "language_info": {
   "name": "python"
  }
 },
 "nbformat": 4,
 "nbformat_minor": 0
}